{
 "cells": [
  {
   "cell_type": "code",
   "execution_count": 1,
   "metadata": {},
   "outputs": [],
   "source": [
    "import pandas as pd\n",
    "import os\n",
    "import warnings\n",
    "#import seaborn as sns\n",
    "import seaborn as sns\n",
    "import matplotlib.pyplot as plt\n",
    "import numpy as np\n",
    "from pandas.plotting import scatter_matrix\n",
    "import time\n",
    "warnings.filterwarnings(\"ignore\")\n",
    "os.chdir(r\"C:\\Users\\ezkiska\\Videos\\Imarticus\\Python\\7th Week project 18th and 19th\\SAT project\")\n",
    "\n",
    "df1 = pd.read_csv(r'borrower_table.csv')\n",
    "df2 = pd.read_csv(r'loan_table.csv')"
   ]
  },
  {
   "cell_type": "code",
   "execution_count": 2,
   "metadata": {},
   "outputs": [
    {
     "data": {
      "text/html": [
       "<div>\n",
       "<style scoped>\n",
       "    .dataframe tbody tr th:only-of-type {\n",
       "        vertical-align: middle;\n",
       "    }\n",
       "\n",
       "    .dataframe tbody tr th {\n",
       "        vertical-align: top;\n",
       "    }\n",
       "\n",
       "    .dataframe thead th {\n",
       "        text-align: right;\n",
       "    }\n",
       "</style>\n",
       "<table border=\"1\" class=\"dataframe\">\n",
       "  <thead>\n",
       "    <tr style=\"text-align: right;\">\n",
       "      <th></th>\n",
       "      <th>loan_id</th>\n",
       "      <th>is_first_loan</th>\n",
       "      <th>fully_repaid_previous_loans</th>\n",
       "      <th>currently_repaying_other_loans</th>\n",
       "      <th>total_credit_card_limit</th>\n",
       "      <th>avg_percentage_credit_card_limit_used_last_year</th>\n",
       "      <th>saving_amount</th>\n",
       "      <th>checking_amount</th>\n",
       "      <th>is_employed</th>\n",
       "      <th>yearly_salary</th>\n",
       "      <th>age</th>\n",
       "      <th>dependent_number</th>\n",
       "    </tr>\n",
       "  </thead>\n",
       "  <tbody>\n",
       "    <tr>\n",
       "      <th>0</th>\n",
       "      <td>289774</td>\n",
       "      <td>1</td>\n",
       "      <td>NaN</td>\n",
       "      <td>NaN</td>\n",
       "      <td>8000</td>\n",
       "      <td>0.49</td>\n",
       "      <td>3285</td>\n",
       "      <td>1073</td>\n",
       "      <td>0</td>\n",
       "      <td>0</td>\n",
       "      <td>47</td>\n",
       "      <td>3</td>\n",
       "    </tr>\n",
       "    <tr>\n",
       "      <th>1</th>\n",
       "      <td>482590</td>\n",
       "      <td>0</td>\n",
       "      <td>1.0</td>\n",
       "      <td>0.0</td>\n",
       "      <td>4500</td>\n",
       "      <td>1.03</td>\n",
       "      <td>636</td>\n",
       "      <td>5299</td>\n",
       "      <td>1</td>\n",
       "      <td>13500</td>\n",
       "      <td>33</td>\n",
       "      <td>1</td>\n",
       "    </tr>\n",
       "    <tr>\n",
       "      <th>2</th>\n",
       "      <td>135565</td>\n",
       "      <td>1</td>\n",
       "      <td>NaN</td>\n",
       "      <td>NaN</td>\n",
       "      <td>6900</td>\n",
       "      <td>0.82</td>\n",
       "      <td>2085</td>\n",
       "      <td>3422</td>\n",
       "      <td>1</td>\n",
       "      <td>24500</td>\n",
       "      <td>38</td>\n",
       "      <td>8</td>\n",
       "    </tr>\n",
       "    <tr>\n",
       "      <th>3</th>\n",
       "      <td>207797</td>\n",
       "      <td>0</td>\n",
       "      <td>1.0</td>\n",
       "      <td>0.0</td>\n",
       "      <td>1200</td>\n",
       "      <td>0.82</td>\n",
       "      <td>358</td>\n",
       "      <td>3388</td>\n",
       "      <td>0</td>\n",
       "      <td>0</td>\n",
       "      <td>24</td>\n",
       "      <td>1</td>\n",
       "    </tr>\n",
       "    <tr>\n",
       "      <th>4</th>\n",
       "      <td>828078</td>\n",
       "      <td>0</td>\n",
       "      <td>0.0</td>\n",
       "      <td>0.0</td>\n",
       "      <td>6900</td>\n",
       "      <td>0.80</td>\n",
       "      <td>2138</td>\n",
       "      <td>4282</td>\n",
       "      <td>1</td>\n",
       "      <td>18100</td>\n",
       "      <td>36</td>\n",
       "      <td>1</td>\n",
       "    </tr>\n",
       "  </tbody>\n",
       "</table>\n",
       "</div>"
      ],
      "text/plain": [
       "   loan_id  is_first_loan  fully_repaid_previous_loans  \\\n",
       "0   289774              1                          NaN   \n",
       "1   482590              0                          1.0   \n",
       "2   135565              1                          NaN   \n",
       "3   207797              0                          1.0   \n",
       "4   828078              0                          0.0   \n",
       "\n",
       "   currently_repaying_other_loans  total_credit_card_limit  \\\n",
       "0                             NaN                     8000   \n",
       "1                             0.0                     4500   \n",
       "2                             NaN                     6900   \n",
       "3                             0.0                     1200   \n",
       "4                             0.0                     6900   \n",
       "\n",
       "   avg_percentage_credit_card_limit_used_last_year  saving_amount  \\\n",
       "0                                             0.49           3285   \n",
       "1                                             1.03            636   \n",
       "2                                             0.82           2085   \n",
       "3                                             0.82            358   \n",
       "4                                             0.80           2138   \n",
       "\n",
       "   checking_amount  is_employed  yearly_salary  age  dependent_number  \n",
       "0             1073            0              0   47                 3  \n",
       "1             5299            1          13500   33                 1  \n",
       "2             3422            1          24500   38                 8  \n",
       "3             3388            0              0   24                 1  \n",
       "4             4282            1          18100   36                 1  "
      ]
     },
     "execution_count": 2,
     "metadata": {},
     "output_type": "execute_result"
    }
   ],
   "source": [
    "df1.head()"
   ]
  },
  {
   "cell_type": "code",
   "execution_count": 3,
   "metadata": {},
   "outputs": [
    {
     "data": {
      "text/html": [
       "<div>\n",
       "<style scoped>\n",
       "    .dataframe tbody tr th:only-of-type {\n",
       "        vertical-align: middle;\n",
       "    }\n",
       "\n",
       "    .dataframe tbody tr th {\n",
       "        vertical-align: top;\n",
       "    }\n",
       "\n",
       "    .dataframe thead th {\n",
       "        text-align: right;\n",
       "    }\n",
       "</style>\n",
       "<table border=\"1\" class=\"dataframe\">\n",
       "  <thead>\n",
       "    <tr style=\"text-align: right;\">\n",
       "      <th></th>\n",
       "      <th>loan_id</th>\n",
       "      <th>loan_purpose</th>\n",
       "      <th>date</th>\n",
       "      <th>loan_granted</th>\n",
       "      <th>loan_repaid</th>\n",
       "    </tr>\n",
       "  </thead>\n",
       "  <tbody>\n",
       "    <tr>\n",
       "      <th>0</th>\n",
       "      <td>19454</td>\n",
       "      <td>investment</td>\n",
       "      <td>3/15/2012</td>\n",
       "      <td>0</td>\n",
       "      <td>NaN</td>\n",
       "    </tr>\n",
       "    <tr>\n",
       "      <th>1</th>\n",
       "      <td>496811</td>\n",
       "      <td>investment</td>\n",
       "      <td>1/17/2012</td>\n",
       "      <td>0</td>\n",
       "      <td>NaN</td>\n",
       "    </tr>\n",
       "    <tr>\n",
       "      <th>2</th>\n",
       "      <td>929493</td>\n",
       "      <td>other</td>\n",
       "      <td>2/9/2012</td>\n",
       "      <td>0</td>\n",
       "      <td>NaN</td>\n",
       "    </tr>\n",
       "    <tr>\n",
       "      <th>3</th>\n",
       "      <td>580653</td>\n",
       "      <td>other</td>\n",
       "      <td>6/27/2012</td>\n",
       "      <td>1</td>\n",
       "      <td>1.0</td>\n",
       "    </tr>\n",
       "    <tr>\n",
       "      <th>4</th>\n",
       "      <td>172419</td>\n",
       "      <td>business</td>\n",
       "      <td>5/21/2012</td>\n",
       "      <td>1</td>\n",
       "      <td>0.0</td>\n",
       "    </tr>\n",
       "  </tbody>\n",
       "</table>\n",
       "</div>"
      ],
      "text/plain": [
       "   loan_id loan_purpose       date  loan_granted  loan_repaid\n",
       "0    19454   investment  3/15/2012             0          NaN\n",
       "1   496811   investment  1/17/2012             0          NaN\n",
       "2   929493        other   2/9/2012             0          NaN\n",
       "3   580653        other  6/27/2012             1          1.0\n",
       "4   172419     business  5/21/2012             1          0.0"
      ]
     },
     "execution_count": 3,
     "metadata": {},
     "output_type": "execute_result"
    }
   ],
   "source": [
    "df2.head()"
   ]
  },
  {
   "cell_type": "code",
   "execution_count": 4,
   "metadata": {},
   "outputs": [
    {
     "data": {
      "text/plain": [
       "Index(['loan_id', 'is_first_loan', 'fully_repaid_previous_loans',\n",
       "       'currently_repaying_other_loans', 'total_credit_card_limit',\n",
       "       'avg_percentage_credit_card_limit_used_last_year', 'saving_amount',\n",
       "       'checking_amount', 'is_employed', 'yearly_salary', 'age',\n",
       "       'dependent_number'],\n",
       "      dtype='object')"
      ]
     },
     "execution_count": 4,
     "metadata": {},
     "output_type": "execute_result"
    }
   ],
   "source": [
    "df1.columns"
   ]
  },
  {
   "cell_type": "code",
   "execution_count": 5,
   "metadata": {},
   "outputs": [
    {
     "data": {
      "text/plain": [
       "Index(['loan_id', 'loan_purpose', 'date', 'loan_granted', 'loan_repaid'], dtype='object')"
      ]
     },
     "execution_count": 5,
     "metadata": {},
     "output_type": "execute_result"
    }
   ],
   "source": [
    "df2.columns"
   ]
  },
  {
   "cell_type": "code",
   "execution_count": 6,
   "metadata": {},
   "outputs": [
    {
     "data": {
      "text/plain": [
       "Index(['loan_id', 'is_first_loan', 'fully_repaid_previous_loans',\n",
       "       'currently_repaying_other_loans', 'total_credit_card_limit',\n",
       "       'avg_percentage_credit_card_limit_used_last_year', 'saving_amount',\n",
       "       'checking_amount', 'is_employed', 'yearly_salary', 'age',\n",
       "       'dependent_number', 'loan_purpose', 'date', 'loan_granted',\n",
       "       'loan_repaid'],\n",
       "      dtype='object')"
      ]
     },
     "execution_count": 6,
     "metadata": {},
     "output_type": "execute_result"
    }
   ],
   "source": [
    "data=pd.merge(df1, df2, on='loan_id') #default inner\n",
    "data.columns"
   ]
  },
  {
   "cell_type": "code",
   "execution_count": 7,
   "metadata": {},
   "outputs": [
    {
     "data": {
      "text/html": [
       "<div>\n",
       "<style scoped>\n",
       "    .dataframe tbody tr th:only-of-type {\n",
       "        vertical-align: middle;\n",
       "    }\n",
       "\n",
       "    .dataframe tbody tr th {\n",
       "        vertical-align: top;\n",
       "    }\n",
       "\n",
       "    .dataframe thead th {\n",
       "        text-align: right;\n",
       "    }\n",
       "</style>\n",
       "<table border=\"1\" class=\"dataframe\">\n",
       "  <thead>\n",
       "    <tr style=\"text-align: right;\">\n",
       "      <th></th>\n",
       "      <th>loan_id</th>\n",
       "      <th>is_first_loan</th>\n",
       "      <th>fully_repaid_previous_loans</th>\n",
       "      <th>currently_repaying_other_loans</th>\n",
       "      <th>total_credit_card_limit</th>\n",
       "      <th>avg_percentage_credit_card_limit_used_last_year</th>\n",
       "      <th>saving_amount</th>\n",
       "      <th>checking_amount</th>\n",
       "      <th>is_employed</th>\n",
       "      <th>yearly_salary</th>\n",
       "      <th>age</th>\n",
       "      <th>dependent_number</th>\n",
       "      <th>loan_granted</th>\n",
       "      <th>loan_repaid</th>\n",
       "    </tr>\n",
       "  </thead>\n",
       "  <tbody>\n",
       "    <tr>\n",
       "      <th>count</th>\n",
       "      <td>101100.000000</td>\n",
       "      <td>101100.000000</td>\n",
       "      <td>46153.000000</td>\n",
       "      <td>46153.000000</td>\n",
       "      <td>101100.000000</td>\n",
       "      <td>94128.000000</td>\n",
       "      <td>101100.000000</td>\n",
       "      <td>101100.000000</td>\n",
       "      <td>101100.000000</td>\n",
       "      <td>101100.000000</td>\n",
       "      <td>101100.000000</td>\n",
       "      <td>101100.000000</td>\n",
       "      <td>101100.000000</td>\n",
       "      <td>47654.000000</td>\n",
       "    </tr>\n",
       "    <tr>\n",
       "      <th>mean</th>\n",
       "      <td>499666.826726</td>\n",
       "      <td>0.543492</td>\n",
       "      <td>0.899291</td>\n",
       "      <td>0.364332</td>\n",
       "      <td>4112.743818</td>\n",
       "      <td>0.724140</td>\n",
       "      <td>1799.617616</td>\n",
       "      <td>3177.150821</td>\n",
       "      <td>0.658675</td>\n",
       "      <td>21020.727992</td>\n",
       "      <td>41.491632</td>\n",
       "      <td>3.864748</td>\n",
       "      <td>0.471355</td>\n",
       "      <td>0.644353</td>\n",
       "    </tr>\n",
       "    <tr>\n",
       "      <th>std</th>\n",
       "      <td>288662.006929</td>\n",
       "      <td>0.498107</td>\n",
       "      <td>0.300946</td>\n",
       "      <td>0.481247</td>\n",
       "      <td>2129.121462</td>\n",
       "      <td>0.186483</td>\n",
       "      <td>1400.545141</td>\n",
       "      <td>2044.448155</td>\n",
       "      <td>0.474157</td>\n",
       "      <td>18937.581415</td>\n",
       "      <td>12.825570</td>\n",
       "      <td>2.635491</td>\n",
       "      <td>0.499181</td>\n",
       "      <td>0.478714</td>\n",
       "    </tr>\n",
       "    <tr>\n",
       "      <th>min</th>\n",
       "      <td>30.000000</td>\n",
       "      <td>0.000000</td>\n",
       "      <td>0.000000</td>\n",
       "      <td>0.000000</td>\n",
       "      <td>0.000000</td>\n",
       "      <td>0.000000</td>\n",
       "      <td>0.000000</td>\n",
       "      <td>0.000000</td>\n",
       "      <td>0.000000</td>\n",
       "      <td>0.000000</td>\n",
       "      <td>18.000000</td>\n",
       "      <td>0.000000</td>\n",
       "      <td>0.000000</td>\n",
       "      <td>0.000000</td>\n",
       "    </tr>\n",
       "    <tr>\n",
       "      <th>25%</th>\n",
       "      <td>250333.750000</td>\n",
       "      <td>0.000000</td>\n",
       "      <td>1.000000</td>\n",
       "      <td>0.000000</td>\n",
       "      <td>2700.000000</td>\n",
       "      <td>0.600000</td>\n",
       "      <td>834.000000</td>\n",
       "      <td>1706.000000</td>\n",
       "      <td>0.000000</td>\n",
       "      <td>0.000000</td>\n",
       "      <td>32.000000</td>\n",
       "      <td>2.000000</td>\n",
       "      <td>0.000000</td>\n",
       "      <td>0.000000</td>\n",
       "    </tr>\n",
       "    <tr>\n",
       "      <th>50%</th>\n",
       "      <td>499885.000000</td>\n",
       "      <td>1.000000</td>\n",
       "      <td>1.000000</td>\n",
       "      <td>0.000000</td>\n",
       "      <td>4100.000000</td>\n",
       "      <td>0.730000</td>\n",
       "      <td>1339.000000</td>\n",
       "      <td>2673.000000</td>\n",
       "      <td>1.000000</td>\n",
       "      <td>21500.000000</td>\n",
       "      <td>41.000000</td>\n",
       "      <td>3.000000</td>\n",
       "      <td>0.000000</td>\n",
       "      <td>1.000000</td>\n",
       "    </tr>\n",
       "    <tr>\n",
       "      <th>75%</th>\n",
       "      <td>749706.250000</td>\n",
       "      <td>1.000000</td>\n",
       "      <td>1.000000</td>\n",
       "      <td>1.000000</td>\n",
       "      <td>5500.000000</td>\n",
       "      <td>0.860000</td>\n",
       "      <td>2409.000000</td>\n",
       "      <td>4241.000000</td>\n",
       "      <td>1.000000</td>\n",
       "      <td>35300.000000</td>\n",
       "      <td>50.000000</td>\n",
       "      <td>6.000000</td>\n",
       "      <td>1.000000</td>\n",
       "      <td>1.000000</td>\n",
       "    </tr>\n",
       "    <tr>\n",
       "      <th>max</th>\n",
       "      <td>999987.000000</td>\n",
       "      <td>1.000000</td>\n",
       "      <td>1.000000</td>\n",
       "      <td>1.000000</td>\n",
       "      <td>13500.000000</td>\n",
       "      <td>1.090000</td>\n",
       "      <td>10641.000000</td>\n",
       "      <td>13906.000000</td>\n",
       "      <td>1.000000</td>\n",
       "      <td>97200.000000</td>\n",
       "      <td>79.000000</td>\n",
       "      <td>8.000000</td>\n",
       "      <td>1.000000</td>\n",
       "      <td>1.000000</td>\n",
       "    </tr>\n",
       "  </tbody>\n",
       "</table>\n",
       "</div>"
      ],
      "text/plain": [
       "             loan_id  is_first_loan  fully_repaid_previous_loans  \\\n",
       "count  101100.000000  101100.000000                 46153.000000   \n",
       "mean   499666.826726       0.543492                     0.899291   \n",
       "std    288662.006929       0.498107                     0.300946   \n",
       "min        30.000000       0.000000                     0.000000   \n",
       "25%    250333.750000       0.000000                     1.000000   \n",
       "50%    499885.000000       1.000000                     1.000000   \n",
       "75%    749706.250000       1.000000                     1.000000   \n",
       "max    999987.000000       1.000000                     1.000000   \n",
       "\n",
       "       currently_repaying_other_loans  total_credit_card_limit  \\\n",
       "count                    46153.000000            101100.000000   \n",
       "mean                         0.364332              4112.743818   \n",
       "std                          0.481247              2129.121462   \n",
       "min                          0.000000                 0.000000   \n",
       "25%                          0.000000              2700.000000   \n",
       "50%                          0.000000              4100.000000   \n",
       "75%                          1.000000              5500.000000   \n",
       "max                          1.000000             13500.000000   \n",
       "\n",
       "       avg_percentage_credit_card_limit_used_last_year  saving_amount  \\\n",
       "count                                     94128.000000  101100.000000   \n",
       "mean                                          0.724140    1799.617616   \n",
       "std                                           0.186483    1400.545141   \n",
       "min                                           0.000000       0.000000   \n",
       "25%                                           0.600000     834.000000   \n",
       "50%                                           0.730000    1339.000000   \n",
       "75%                                           0.860000    2409.000000   \n",
       "max                                           1.090000   10641.000000   \n",
       "\n",
       "       checking_amount    is_employed  yearly_salary            age  \\\n",
       "count    101100.000000  101100.000000  101100.000000  101100.000000   \n",
       "mean       3177.150821       0.658675   21020.727992      41.491632   \n",
       "std        2044.448155       0.474157   18937.581415      12.825570   \n",
       "min           0.000000       0.000000       0.000000      18.000000   \n",
       "25%        1706.000000       0.000000       0.000000      32.000000   \n",
       "50%        2673.000000       1.000000   21500.000000      41.000000   \n",
       "75%        4241.000000       1.000000   35300.000000      50.000000   \n",
       "max       13906.000000       1.000000   97200.000000      79.000000   \n",
       "\n",
       "       dependent_number   loan_granted   loan_repaid  \n",
       "count     101100.000000  101100.000000  47654.000000  \n",
       "mean           3.864748       0.471355      0.644353  \n",
       "std            2.635491       0.499181      0.478714  \n",
       "min            0.000000       0.000000      0.000000  \n",
       "25%            2.000000       0.000000      0.000000  \n",
       "50%            3.000000       0.000000      1.000000  \n",
       "75%            6.000000       1.000000      1.000000  \n",
       "max            8.000000       1.000000      1.000000  "
      ]
     },
     "execution_count": 7,
     "metadata": {},
     "output_type": "execute_result"
    }
   ],
   "source": [
    "data.describe()"
   ]
  },
  {
   "cell_type": "code",
   "execution_count": 8,
   "metadata": {},
   "outputs": [
    {
     "data": {
      "text/html": [
       "<div>\n",
       "<style scoped>\n",
       "    .dataframe tbody tr th:only-of-type {\n",
       "        vertical-align: middle;\n",
       "    }\n",
       "\n",
       "    .dataframe tbody tr th {\n",
       "        vertical-align: top;\n",
       "    }\n",
       "\n",
       "    .dataframe thead th {\n",
       "        text-align: right;\n",
       "    }\n",
       "</style>\n",
       "<table border=\"1\" class=\"dataframe\">\n",
       "  <thead>\n",
       "    <tr style=\"text-align: right;\">\n",
       "      <th></th>\n",
       "      <th>loan_purpose</th>\n",
       "      <th>date</th>\n",
       "    </tr>\n",
       "  </thead>\n",
       "  <tbody>\n",
       "    <tr>\n",
       "      <th>count</th>\n",
       "      <td>101100</td>\n",
       "      <td>101100</td>\n",
       "    </tr>\n",
       "    <tr>\n",
       "      <th>unique</th>\n",
       "      <td>5</td>\n",
       "      <td>260</td>\n",
       "    </tr>\n",
       "    <tr>\n",
       "      <th>top</th>\n",
       "      <td>home</td>\n",
       "      <td>3/27/2012</td>\n",
       "    </tr>\n",
       "    <tr>\n",
       "      <th>freq</th>\n",
       "      <td>24314</td>\n",
       "      <td>500</td>\n",
       "    </tr>\n",
       "  </tbody>\n",
       "</table>\n",
       "</div>"
      ],
      "text/plain": [
       "       loan_purpose       date\n",
       "count        101100     101100\n",
       "unique            5        260\n",
       "top            home  3/27/2012\n",
       "freq          24314        500"
      ]
     },
     "execution_count": 8,
     "metadata": {},
     "output_type": "execute_result"
    }
   ],
   "source": [
    "data.describe(include = 'O')"
   ]
  },
  {
   "cell_type": "code",
   "execution_count": 9,
   "metadata": {},
   "outputs": [
    {
     "data": {
      "text/plain": [
       "loan_id                                              int64\n",
       "is_first_loan                                        int64\n",
       "fully_repaid_previous_loans                        float64\n",
       "currently_repaying_other_loans                     float64\n",
       "total_credit_card_limit                              int64\n",
       "avg_percentage_credit_card_limit_used_last_year    float64\n",
       "saving_amount                                        int64\n",
       "checking_amount                                      int64\n",
       "is_employed                                          int64\n",
       "yearly_salary                                        int64\n",
       "age                                                  int64\n",
       "dependent_number                                     int64\n",
       "loan_purpose                                        object\n",
       "date                                                object\n",
       "loan_granted                                         int64\n",
       "loan_repaid                                        float64\n",
       "dtype: object"
      ]
     },
     "execution_count": 9,
     "metadata": {},
     "output_type": "execute_result"
    }
   ],
   "source": [
    "data.dtypes"
   ]
  },
  {
   "cell_type": "code",
   "execution_count": 10,
   "metadata": {},
   "outputs": [
    {
     "data": {
      "text/plain": [
       "loan_id                                                0\n",
       "is_first_loan                                          0\n",
       "fully_repaid_previous_loans                        54947\n",
       "currently_repaying_other_loans                     54947\n",
       "total_credit_card_limit                                0\n",
       "avg_percentage_credit_card_limit_used_last_year     6972\n",
       "saving_amount                                          0\n",
       "checking_amount                                        0\n",
       "is_employed                                            0\n",
       "yearly_salary                                          0\n",
       "age                                                    0\n",
       "dependent_number                                       0\n",
       "loan_purpose                                           0\n",
       "date                                                   0\n",
       "loan_granted                                           0\n",
       "loan_repaid                                        53446\n",
       "dtype: int64"
      ]
     },
     "execution_count": 10,
     "metadata": {},
     "output_type": "execute_result"
    }
   ],
   "source": [
    "data.isnull().sum() "
   ]
  },
  {
   "cell_type": "raw",
   "metadata": {},
   "source": [
    "'' #fully repaid & currently repaying has 54947 \n",
    "NAN observations, Avg percentage has 6972 & load repaid has 53446 NAN\n",
    "'''\n",
    "# LOAD Repaid is target variable\n",
    "#Test NAN on Load_repaid as these have not taken load\n",
    "#load granted is a better option\n",
    "\n",
    "\n",
    "'''drop load granted & ID from train test\n",
    "\n",
    "'egregetting Columns based on Data types '''"
   ]
  },
  {
   "cell_type": "code",
   "execution_count": 11,
   "metadata": {},
   "outputs": [
    {
     "data": {
      "text/plain": [
       "is_first_loan                                        int64\n",
       "fully_repaid_previous_loans                        float64\n",
       "currently_repaying_other_loans                     float64\n",
       "total_credit_card_limit                              int64\n",
       "avg_percentage_credit_card_limit_used_last_year    float64\n",
       "saving_amount                                        int64\n",
       "checking_amount                                      int64\n",
       "is_employed                                          int64\n",
       "yearly_salary                                        int64\n",
       "age                                                  int64\n",
       "dependent_number                                     int64\n",
       "loan_purpose                                        object\n",
       "date                                                object\n",
       "loan_granted                                         int64\n",
       "loan_repaid                                        float64\n",
       "dtype: object"
      ]
     },
     "execution_count": 11,
     "metadata": {},
     "output_type": "execute_result"
    }
   ],
   "source": [
    "data.drop(['loan_id'], axis=1, inplace=True)\n",
    "data.dtypes"
   ]
  },
  {
   "cell_type": "code",
   "execution_count": 59,
   "metadata": {},
   "outputs": [
    {
     "data": {
      "text/plain": [
       "1.0    30706\n",
       "0.0    16948\n",
       "Name: loan_repaid, dtype: int64"
      ]
     },
     "execution_count": 59,
     "metadata": {},
     "output_type": "execute_result"
    }
   ],
   "source": [
    "data['loan_repaid'].value_counts()"
   ]
  },
  {
   "cell_type": "code",
   "execution_count": 12,
   "metadata": {},
   "outputs": [],
   "source": [
    "df_nom=data.select_dtypes(include='object')\n",
    "df_ordinal = data [['is_first_loan','is_employed','fully_repaid_previous_loans','currently_repaying_other_loans',\n",
    "                     'avg_percentage_credit_card_limit_used_last_year','loan_granted','loan_repaid']]\n",
    "df_numeric = data [['total_credit_card_limit','saving_amount','checking_amount','yearly_salary','age',\n",
    "                     'dependent_number']]"
   ]
  },
  {
   "cell_type": "markdown",
   "metadata": {},
   "source": [
    "#### Working on ordinal data "
   ]
  },
  {
   "cell_type": "code",
   "execution_count": 13,
   "metadata": {},
   "outputs": [
    {
     "data": {
      "text/plain": [
       "is_first_loan                                          0\n",
       "is_employed                                            0\n",
       "fully_repaid_previous_loans                        54947\n",
       "currently_repaying_other_loans                     54947\n",
       "avg_percentage_credit_card_limit_used_last_year     6972\n",
       "loan_granted                                           0\n",
       "loan_repaid                                        53446\n",
       "dtype: int64"
      ]
     },
     "execution_count": 13,
     "metadata": {},
     "output_type": "execute_result"
    }
   ],
   "source": [
    "df_ordinal.isnull().sum() "
   ]
  },
  {
   "cell_type": "code",
   "execution_count": 14,
   "metadata": {},
   "outputs": [
    {
     "data": {
      "text/plain": [
       "Index(['is_first_loan', 'is_employed', 'fully_repaid_previous_loans',\n",
       "       'currently_repaying_other_loans',\n",
       "       'avg_percentage_credit_card_limit_used_last_year', 'loan_granted',\n",
       "       'loan_repaid'],\n",
       "      dtype='object')"
      ]
     },
     "execution_count": 14,
     "metadata": {},
     "output_type": "execute_result"
    }
   ],
   "source": [
    "df_ordinal.columns"
   ]
  },
  {
   "cell_type": "code",
   "execution_count": 15,
   "metadata": {},
   "outputs": [
    {
     "data": {
      "text/plain": [
       "<matplotlib.axes._subplots.AxesSubplot at 0x1af316315f8>"
      ]
     },
     "execution_count": 15,
     "metadata": {},
     "output_type": "execute_result"
    },
    {
     "data": {
      "image/png": "[encoded data removed]",
      "text/plain": [
       "<Figure size 432x288 with 1 Axes>"
      ]
     },
     "metadata": {
      "needs_background": "light"
     },
     "output_type": "display_data"
    }
   ],
   "source": [
    "df_ordinal[['fully_repaid_previous_loans','currently_repaying_other_loans']]=df_ordinal[['fully_repaid_previous_loans',\n",
    "          'currently_repaying_other_loans']].fillna(value=2)\n",
    "df_ordinal['avg_percentage_credit_card_limit_used_last_year'] = df_ordinal['avg_percentage_credit_card_limit_used_last_year'].fillna(axis =0, \n",
    "          method ='ffill')\n",
    "sns.distplot(df_ordinal['avg_percentage_credit_card_limit_used_last_year'])"
   ]
  },
  {
   "cell_type": "code",
   "execution_count": 16,
   "metadata": {},
   "outputs": [
    {
     "data": {
      "text/plain": [
       "0"
      ]
     },
     "execution_count": 16,
     "metadata": {},
     "output_type": "execute_result"
    }
   ],
   "source": [
    "df_ordinal['avg_percentage_credit_card_limit_used_last_year'].isnull().sum()"
   ]
  },
  {
   "cell_type": "code",
   "execution_count": 17,
   "metadata": {},
   "outputs": [
    {
     "data": {
      "text/plain": [
       "'since valuers are very close by we will have to keep it wather that scalling to 0 or 1'"
      ]
     },
     "execution_count": 17,
     "metadata": {},
     "output_type": "execute_result"
    }
   ],
   "source": [
    "df_ordinal[['avg_percentage_credit_card_limit_used_last_year', 'loan_repaid']].groupby(['loan_repaid'], \n",
    "          as_index=False).mean().sort_values(by='loan_repaid', ascending=True)\n",
    "'''since valuers are very close by we will have to keep it wather that scalling to 0 or 1'''"
   ]
  },
  {
   "cell_type": "code",
   "execution_count": 18,
   "metadata": {},
   "outputs": [
    {
     "data": {
      "text/plain": [
       "'\\nNow Ordinal is donw, we will work on df_numeric we will scale & do quantile cut'"
      ]
     },
     "execution_count": 18,
     "metadata": {},
     "output_type": "execute_result"
    }
   ],
   "source": [
    "df_numeric['avg_percentage_credit_card_limit_used_last_year'] = df_ordinal['avg_percentage_credit_card_limit_used_last_year']\n",
    "df_ordinal.drop(['avg_percentage_credit_card_limit_used_last_year'], axis=1, inplace=True)\n",
    "'''\n",
    "Now Ordinal is donw, we will work on df_numeric we will scale & do quantile cut'''"
   ]
  },
  {
   "cell_type": "code",
   "execution_count": 19,
   "metadata": {},
   "outputs": [],
   "source": [
    "from sklearn import preprocessing\n",
    "\n",
    "## scaling\n",
    "scaler = preprocessing.MinMaxScaler().fit(df_numeric)\n",
    "scaled_numeric = scaler.transform(df_numeric)\n",
    "dfs_numeric=pd.DataFrame(scaled_numeric, columns=df_numeric.columns.tolist())"
   ]
  },
  {
   "cell_type": "code",
   "execution_count": 20,
   "metadata": {},
   "outputs": [],
   "source": [
    "'''now quantile cut on pd.numeric original data '''\n",
    "\n",
    "df_numeric['total_credit_card_limit_band'] = pd.qcut(df_numeric['total_credit_card_limit'],4)#.value_counts()\n",
    "df_numeric['saving_amount_band'] = pd.qcut(df_numeric['saving_amount'],4)#.value_counts()\n",
    "df_numeric['checking_amount_band'] = pd.qcut(df_numeric['checking_amount'],4)#value_counts()\n",
    "df_numeric['age_band'] = pd.qcut(df_numeric['age'],4)#.value_counts() #df_numeric['age'] check Q cut values\n",
    "df_numeric['avg_percentage_credit_card_limit_used_last_year_band'] = pd.qcut(df_numeric['avg_percentage_credit_card_limit_used_last_year'],4)#.value_counts()\n",
    "df_numeric['dependent_number_band'] = pd.qcut(df_numeric['dependent_number'],4)"
   ]
  },
  {
   "cell_type": "code",
   "execution_count": 21,
   "metadata": {},
   "outputs": [
    {
     "data": {
      "text/plain": [
       "(99.999, 21900.0]     16752\n",
       "(30900.0, 41100.0]    16656\n",
       "(21900.0, 30900.0]    16642\n",
       "(41100.0, 97200.0]    16529\n",
       "Name: yearly_salary, dtype: int64"
      ]
     },
     "execution_count": 21,
     "metadata": {},
     "output_type": "execute_result"
    }
   ],
   "source": [
    "#pd.qcut(df_numeric['yearly_salary'],3) #giving error Unexpected duplicates each array should  contain unique 1st value\n",
    "nonZeroRows = df_numeric.loc[df_numeric['yearly_salary']!=0, 'yearly_salary']\n",
    "pd.qcut(nonZeroRows,4).value_counts()"
   ]
  },
  {
   "cell_type": "code",
   "execution_count": 22,
   "metadata": {},
   "outputs": [
    {
     "data": {
      "text/plain": [
       "0    34521\n",
       "1    16752\n",
       "3    16656\n",
       "2    16642\n",
       "4    16529\n",
       "Name: yearly_salary, dtype: int64"
      ]
     },
     "execution_count": 22,
     "metadata": {},
     "output_type": "execute_result"
    }
   ],
   "source": [
    "# Quantile cut on \n",
    "df_numeric.loc[(df_numeric['yearly_salary']>99.999) & (df_numeric['yearly_salary']<= 21900.0 ),'yearly_salary'] = 1\n",
    "df_numeric.loc[(df_numeric['yearly_salary']>21900.0) & (df_numeric['yearly_salary']<= 30900.0 ),'yearly_salary'] = 2\n",
    "df_numeric.loc[(df_numeric['yearly_salary']>30900.0) & (df_numeric['yearly_salary']<= 41100.0 ),'yearly_salary'] = 3\n",
    "df_numeric.loc[(df_numeric['yearly_salary']>41100.0) & (df_numeric['yearly_salary']<= 97200.0 ),'yearly_salary'] = 4\n",
    "# check \n",
    "df_numeric['yearly_salary'].value_counts()"
   ]
  },
  {
   "cell_type": "code",
   "execution_count": 23,
   "metadata": {},
   "outputs": [],
   "source": [
    "# Quantile cut on  total_credit_card_limit\n",
    "df_numeric.loc[(df_numeric['total_credit_card_limit']>0.0) & (df_numeric['total_credit_card_limit']<= 2700.0 ),'total_credit_card_limit'] = 0\n",
    "df_numeric.loc[(df_numeric['total_credit_card_limit']>2700.0) & (df_numeric['total_credit_card_limit']<= 4100.0 ),'total_credit_card_limit'] = 1\n",
    "df_numeric.loc[(df_numeric['total_credit_card_limit']>4100.0) & (df_numeric['total_credit_card_limit']<= 5500.0 ),'total_credit_card_limit'] = 2\n",
    "df_numeric.loc[(df_numeric['total_credit_card_limit']>5500.0) & (df_numeric['total_credit_card_limit']<= 13500.0 ),'total_credit_card_limit'] = 3\n",
    "\n",
    "# Quantile cut on  saving_amount\n",
    "df_numeric.loc[(df_numeric['saving_amount']>0.0) & (df_numeric['saving_amount']<= 834.0 ),'saving_amount'] = 0\n",
    "df_numeric.loc[(df_numeric['saving_amount']>834.0) & (df_numeric['saving_amount']<= 1339.0 ),'saving_amount'] = 1\n",
    "df_numeric.loc[(df_numeric['saving_amount']>1339.0) & (df_numeric['saving_amount']<= 2409.0 ),'saving_amount'] = 2\n",
    "df_numeric.loc[(df_numeric['saving_amount']>2409.0) & (df_numeric['saving_amount']<= 10641.0 ),'saving_amount'] = 3\n",
    "\n",
    "\n",
    "# Quantile cut on  checking_amount\n",
    "df_numeric.loc[(df_numeric['checking_amount']>0.0) & (df_numeric['checking_amount']<= 1706.0 ),'checking_amount'] = 0\n",
    "df_numeric.loc[(df_numeric['checking_amount']>1706.0) & (df_numeric['checking_amount']<= 2673.0 ),'checking_amount'] = 1\n",
    "df_numeric.loc[(df_numeric['checking_amount']>2673.0) & (df_numeric['checking_amount']<= 4241.0 ),'checking_amount'] = 2\n",
    "df_numeric.loc[(df_numeric['checking_amount']>4241.0) & (df_numeric['checking_amount']<= 13906.0 ),'checking_amount'] = 3\n",
    "\n",
    "# Quantile cut on  yearly_salary\n",
    "df_numeric.loc[(df_numeric['yearly_salary']>0.0) & (df_numeric['yearly_salary']<= 18900.0 ),'yearly_salary'] = 0\n",
    "df_numeric.loc[(df_numeric['yearly_salary']>18900.0) & (df_numeric['yearly_salary']<= 29400.0 ),'yearly_salary'] = 1\n",
    "df_numeric.loc[(df_numeric['yearly_salary']>29400.0) & (df_numeric['yearly_salary']<= 40200.0 ),'yearly_salary'] = 2\n",
    "df_numeric.loc[(df_numeric['yearly_salary']>40200.0) & (df_numeric['yearly_salary']<= 97200.0 ),'yearly_salary'] = 3\n"
   ]
  },
  {
   "cell_type": "code",
   "execution_count": 24,
   "metadata": {},
   "outputs": [],
   "source": [
    "# Quantile cut on  age\n",
    "\n",
    "'''\n",
    "df_numeric.age.min()\n",
    "Out[69]: 18\n",
    "df_numeric.age.max()\n",
    "Out[70]: 79\n",
    "\n",
    "33- 47 -> 1200- 1405\n",
    "-32-> 1198\n",
    "\n",
    "'''\n",
    "df_numeric.loc[(df_numeric['age']>17.999) & (df_numeric['age']<= 32.0 ),'age'] = 0\n",
    "df_numeric.loc[(df_numeric['age']>32.0) & (df_numeric['age']<= 41.0 ),'age'] = 1\n",
    "df_numeric.loc[(df_numeric['age']>41.0) & (df_numeric['age']<= 50.0 ),'age'] = 2\n",
    "df_numeric.loc[(df_numeric['age']>50.0) & (df_numeric['age']<= 79.0 ),'age'] = 3"
   ]
  },
  {
   "cell_type": "code",
   "execution_count": 25,
   "metadata": {},
   "outputs": [],
   "source": [
    "# Quantile cut on  avg_percentage_credit_card_limit_used_last_year_band\n",
    "df_numeric.loc[(df_numeric['avg_percentage_credit_card_limit_used_last_year']>0.00) & (df_numeric['avg_percentage_credit_card_limit_used_last_year']<= 0.6 ),'avg_percentage_credit_card_limit_used_last_year'] = 0\n",
    "df_numeric.loc[(df_numeric['avg_percentage_credit_card_limit_used_last_year']>0.6) & (df_numeric['avg_percentage_credit_card_limit_used_last_year']<= 0.73 ),'avg_percentage_credit_card_limit_used_last_year'] = 1\n",
    "df_numeric.loc[(df_numeric['avg_percentage_credit_card_limit_used_last_year']>0.73) & (df_numeric['avg_percentage_credit_card_limit_used_last_year']<= 0.86 ),'avg_percentage_credit_card_limit_used_last_year'] = 2\n",
    "df_numeric.loc[(df_numeric['avg_percentage_credit_card_limit_used_last_year']>0.86) & (df_numeric['avg_percentage_credit_card_limit_used_last_year']<= 1.09 ),'avg_percentage_credit_card_limit_used_last_year'] = 3\n",
    "\n",
    "#dependent_number\n",
    "df_numeric.loc[(df_numeric['dependent_number']>17.999) & (df_numeric['dependent_number']<= 2.0 ),'dependent_number'] = 0\n",
    "df_numeric.loc[(df_numeric['dependent_number']>2.0) & (df_numeric['dependent_number']<= 3.0 ),'dependent_number'] = 1\n",
    "df_numeric.loc[(df_numeric['dependent_number']>3.0) & (df_numeric['dependent_number']<= 6.0 ),'dependent_number'] = 2\n",
    "df_numeric.loc[(df_numeric['dependent_number']>6.0) & (df_numeric['dependent_number']<= 8.0 ),'dependent_number'] = 3\n",
    "\n",
    "df_numeric.drop(df_numeric.iloc[:, 7:], inplace = True, axis = 1)"
   ]
  },
  {
   "cell_type": "code",
   "execution_count": 26,
   "metadata": {},
   "outputs": [],
   "source": [
    "'''Re[eat for all]\n",
    "\n",
    "\n",
    "Dumyfying for Nom data , 1st drop date\n",
    "'''\n",
    "\n",
    "df_nom.drop(['date'], axis=1, inplace=True)\n",
    "\n",
    "df_nom_dum = pd.get_dummies(df_nom, drop_first = True)\n",
    "\n",
    "'''\n",
    "Now impute in Nom\n",
    "\n",
    "'''\n",
    "\n",
    "from sklearn.preprocessing import LabelEncoder\n",
    "lbs = LabelEncoder()\n",
    "lbs.fit(df_nom)\n",
    "df_nom_labels = lbs.transform(df_nom)\n",
    "df_nom['loan_purpose'] = df_nom_labels\n"
   ]
  },
  {
   "cell_type": "code",
   "execution_count": 27,
   "metadata": {},
   "outputs": [],
   "source": [
    "'''\n",
    "#ordinal & nominal will be same for all model\n",
    "#Log reg , KNN, SVM will use Scaled numeric, labbel & dummiees for nom will both be used\n",
    "#DT XG, RF wil use Qcur numerical\n",
    "\n",
    "\n",
    "Do SMOTE on train\n",
    "Split in train and test\n",
    "1. Cross validation - Grid search mmodel name , cross folds\n",
    "2. \n",
    "\n",
    "\n",
    "'''\n",
    "df3 = pd.concat([df_nom_dum, df_numeric, df_ordinal], axis = 1) # dummyfying nominal + Qcut numerical\n",
    "\n",
    "train=df3[df3['loan_granted']==1]\n",
    "test=df3[df3['loan_granted']==0]\n",
    "\n",
    "len(train[train['loan_repaid']==1])/train.shape[0]\n",
    "\n",
    "train = train.drop('loan_granted', axis = 1)\n",
    "test = test.drop('loan_granted', axis = 1)\n",
    "\n",
    "dataforDTreewithouttSMOTE = train"
   ]
  },
  {
   "cell_type": "markdown",
   "metadata": {},
   "source": [
    "### ----------------------------------- MODELLING-----------------------------------------------------------------------------\n"
   ]
  },
  {
   "cell_type": "code",
   "execution_count": 28,
   "metadata": {},
   "outputs": [],
   "source": [
    "from imblearn.over_sampling import SMOTE #reduces oversampling/ technique\n",
    "from sklearn.model_selection import train_test_split \n",
    "from sklearn.metrics import confusion_matrix, classification_report , f1_score \n",
    "from sklearn.tree import DecisionTreeClassifier\n",
    "from confusionMatrix import plotConfusionMatrix\n",
    "\n",
    "ywithoutsmote = dataforDTreewithouttSMOTE['loan_repaid']\n",
    "Xwithoutsmote = dataforDTreewithouttSMOTE.iloc[:,0:-1]"
   ]
  },
  {
   "cell_type": "markdown",
   "metadata": {},
   "source": [
    "#####  Method 0: without SMOTE---------------------------------------"
   ]
  },
  {
   "cell_type": "code",
   "execution_count": 29,
   "metadata": {},
   "outputs": [
    {
     "name": "stdout",
     "output_type": "stream",
     "text": [
      "WITHOUT IMBALANCE TREATMENT:\n",
      "              precision    recall  f1-score   support\n",
      "\n",
      "         0.0       0.79      0.82      0.80      5084\n",
      "         1.0       0.90      0.88      0.89      9213\n",
      "\n",
      "    accuracy                           0.86     14297\n",
      "   macro avg       0.84      0.85      0.85     14297\n",
      "weighted avg       0.86      0.86      0.86     14297\n",
      "\n",
      "[[4168  916]\n",
      " [1133 8080]]\n",
      "********************************************************************************\n"
     ]
    },
    {
     "data": {
      "text/plain": [
       "8996"
      ]
     },
     "execution_count": 29,
     "metadata": {},
     "output_type": "execute_result"
    },
    {
     "data": {
      "image/png": "[encoded data removed]",
      "text/plain": [
       "<Figure size 432x288 with 2 Axes>"
      ]
     },
     "metadata": {
      "needs_background": "light"
     },
     "output_type": "display_data"
    }
   ],
   "source": [
    "X_train, X_val, y_train, y_val = train_test_split(Xwithoutsmote, ywithoutsmote, test_size = 0.3, random_state = 0)\n",
    "\n",
    "clf = DecisionTreeClassifier(random_state=0)\n",
    "clf.fit(X_train, y_train.ravel()) \n",
    "clf.score(X_train, y_train)\n",
    "clf.score(X_val, y_val)\n",
    "\n",
    "predictions_ = clf.predict(X_val) \n",
    "  \n",
    "# print classification report \n",
    "print('Without imbalance treatment:'.upper())\n",
    "print(classification_report(y_val, predictions_)) \n",
    "print(confusion_matrix(y_val, predictions_))\n",
    "f1= f1_score(y_val,predictions_, average='micro')\n",
    "plt.figure()\n",
    "cnf_mat = confusion_matrix(y_val,predictions_)\n",
    "plotConfusionMatrix(cnf_mat, 2,title='F1_micro {:.3f}'.format(f1))\n",
    "print('*'*80)\n",
    "#print('\\n')\n",
    "\n",
    "sum(y_val == 0)\n",
    "sum(y_val == 1)\n",
    "sum(predictions_ == 0)\n",
    "sum(predictions_ == 1)"
   ]
  },
  {
   "cell_type": "markdown",
   "metadata": {},
   "source": [
    "#####  Method1: SMOTE on Train------------------------------------------------------------------"
   ]
  },
  {
   "cell_type": "code",
   "execution_count": 30,
   "metadata": {},
   "outputs": [
    {
     "name": "stdout",
     "output_type": "stream",
     "text": [
      "WITH IMBALANCE TREATMENT:\n",
      "After OverSampling, X: (42986, 15)\n",
      "After OverSampling, y: (42986,)\n",
      "After OverSampling, counts of '1': 21493\n",
      "After OverSampling, counts of '0': 21493\n",
      "\n",
      "\n"
     ]
    }
   ],
   "source": [
    "sm = SMOTE(random_state = 2) \n",
    "X_res, y_res = sm.fit_sample(X_train, y_train.ravel()) \n",
    "\n",
    "print('With imbalance treatment:'.upper())\n",
    "print('After OverSampling, X: {}'.format(X_res.shape)) \n",
    "print('After OverSampling, y: {}'.format(y_res.shape)) \n",
    "print(\"After OverSampling, counts of '1': {}\".format(sum(y_res == 1))) \n",
    "print(\"After OverSampling, counts of '0': {}\".format(sum(y_res == 0))) \n",
    "print('\\n')\n",
    "\n",
    "#split into 70:30 ratio \n",
    "X_train_res, X_val_res, y_train_res, y_val_res = train_test_split(X_res, y_res, \n",
    "                    test_size = 0.3, random_state = 0)"
   ]
  },
  {
   "cell_type": "code",
   "execution_count": 31,
   "metadata": {},
   "outputs": [
    {
     "name": "stdout",
     "output_type": "stream",
     "text": [
      "AFTER IMBALANCE TREATMENT:\n",
      "              precision    recall  f1-score   support\n",
      "\n",
      "         0.0       0.87      0.91      0.89      6499\n",
      "         1.0       0.90      0.86      0.88      6397\n",
      "\n",
      "    accuracy                           0.89     12896\n",
      "   macro avg       0.89      0.88      0.88     12896\n",
      "weighted avg       0.89      0.89      0.88     12896\n",
      "\n",
      "[[5917  582]\n",
      " [ 900 5497]]\n",
      "********************************************************************************\n"
     ]
    },
    {
     "data": {
      "text/plain": [
       "array([[5917,  582],\n",
       "       [ 900, 5497]], dtype=int64)"
      ]
     },
     "execution_count": 31,
     "metadata": {},
     "output_type": "execute_result"
    },
    {
     "data": {
      "image/png": "[encoded data removed]",
      "text/plain": [
       "<Figure size 432x288 with 2 Axes>"
      ]
     },
     "metadata": {
      "needs_background": "light"
     },
     "output_type": "display_data"
    }
   ],
   "source": [
    "#Checking on Validation Set\n",
    "clf.fit(X_train_res, y_train_res.ravel()) \n",
    "clf.score(X_train_res, y_train_res)\n",
    "clf.score(X_val_res, y_val_res)\n",
    "\n",
    "predictions = clf.predict(X_val_res) \n",
    "  \n",
    "# print classification report \n",
    "print('After imbalance treatment:'.upper())\n",
    "print(classification_report(y_val_res, predictions)) \n",
    "print(confusion_matrix(y_val_res, predictions))\n",
    "f1= f1_score(y_val_res,predictions, average='micro')\n",
    "plt.figure()\n",
    "cnf_mat = confusion_matrix(y_val_res,predictions)\n",
    "plotConfusionMatrix(cnf_mat, 2,title='F1_micro {:.3f}'.format(f1))\n",
    "print('*'*80)\n",
    "#print('\\n')\n",
    "\n",
    "sum(y_val_res == 0)\n",
    "sum(y_val_res == 1)\n",
    "sum(predictions == 0)\n",
    "sum(predictions == 1)\n",
    "\n",
    "confusion_matrix(y_val_res, predictions)"
   ]
  },
  {
   "cell_type": "code",
   "execution_count": 34,
   "metadata": {},
   "outputs": [
    {
     "name": "stdout",
     "output_type": "stream",
     "text": [
      "AFTER IMBALANCE TREATMENT:\n",
      "              precision    recall  f1-score   support\n",
      "\n",
      "         0.0       0.77      0.82      0.80      5084\n",
      "         1.0       0.90      0.87      0.88      9213\n",
      "\n",
      "    accuracy                           0.85     14297\n",
      "   macro avg       0.83      0.84      0.84     14297\n",
      "weighted avg       0.85      0.85      0.85     14297\n",
      "\n",
      "[[4173  911]\n",
      " [1241 7972]]\n",
      "********************************************************************************\n"
     ]
    },
    {
     "data": {
      "text/plain": [
       "array([[4173,  911],\n",
       "       [1241, 7972]], dtype=int64)"
      ]
     },
     "execution_count": 34,
     "metadata": {},
     "output_type": "execute_result"
    },
    {
     "data": {
      "image/png": "[encoded data removed]",
      "text/plain": [
       "<Figure size 432x288 with 2 Axes>"
      ]
     },
     "metadata": {
      "needs_background": "light"
     },
     "output_type": "display_data"
    }
   ],
   "source": [
    "#Cheking on test data :  X_val, y_val\n",
    "\n",
    "clf.fit(X_train_res, y_train_res.ravel()) \n",
    "clf.score(X_val, y_val)\n",
    "\n",
    "predictions = clf.predict(X_val) \n",
    "  \n",
    "# print classification report \n",
    "print('After imbalance treatment:'.upper())\n",
    "print(classification_report(y_val, predictions)) \n",
    "print(confusion_matrix(y_val, predictions))\n",
    "f1= f1_score(y_val,predictions, average='micro')\n",
    "plt.figure()\n",
    "cnf_mat = confusion_matrix(y_val,predictions)\n",
    "plotConfusionMatrix(cnf_mat, 2,title='F1_micro {:.3f}'.format(f1))\n",
    "print('*'*80)\n",
    "#print('\\n')\n",
    "\n",
    "sum(y_val == 0)\n",
    "sum(y_val == 1)\n",
    "sum(predictions == 0)\n",
    "sum(predictions == 1)\n",
    "\n",
    "confusion_matrix(y_val, predictions)\n"
   ]
  },
  {
   "cell_type": "markdown",
   "metadata": {},
   "source": [
    "#### GRID SEARCH WITH SMOTE---------------------------------------------------"
   ]
  },
  {
   "cell_type": "code",
   "execution_count": 42,
   "metadata": {},
   "outputs": [
    {
     "name": "stdout",
     "output_type": "stream",
     "text": [
      "GRID SEARCH WITH SMOTE -- DT:\n",
      "Accuracy: 0.882\n",
      "********************************************************************************\n",
      "Using best parameters: {'max_depth': 9}\n",
      "********************************************************************************\n",
      "              precision    recall  f1-score   support\n",
      "\n",
      "         0.0       0.78      0.92      0.85      5084\n",
      "         1.0       0.95      0.86      0.90      9213\n",
      "\n",
      "    accuracy                           0.88     14297\n",
      "   macro avg       0.87      0.89      0.88     14297\n",
      "weighted avg       0.89      0.88      0.88     14297\n",
      "\n",
      "********************************************************************************\n",
      "[[4693  391]\n",
      " [1302 7911]]\n",
      "********************************************************************************\n",
      "********************************************************************************\n"
     ]
    },
    {
     "data": {
      "image/png": "[encoded data removed]",
      "text/plain": [
       "<Figure size 432x288 with 1 Axes>"
      ]
     },
     "metadata": {
      "needs_background": "light"
     },
     "output_type": "display_data"
    }
   ],
   "source": [
    "from sklearn.metrics import roc_auc_score, roc_curve, accuracy_score\n",
    "from sklearn.model_selection import GridSearchCV\n",
    "import matplotlib.pyplot as plt\n",
    "from sklearn import metrics\n",
    "\n",
    "#parameters={'min_samples_split' : range(10,500,20),'max_depth': range(1,20,2)}   X_val, y_val\n",
    "parameters = {'max_depth': np.arange(3, 10)} # pruning\n",
    "tree = GridSearchCV(clf,parameters)\n",
    "tree.fit(X_train_res,y_train_res)\n",
    "preds = tree.predict(X_val)\n",
    "accu = accuracy_score(y_val, preds)\n",
    "\n",
    "print('GRID SEARCH WITH SMOTE -- DT:')\n",
    "print('Accuracy:', np.round(accu,3))\n",
    "print('*'*80)\n",
    "print('Using best parameters:',tree.best_params_)\n",
    "print('*'*80)\n",
    "print(classification_report(y_val, preds))\n",
    "print('*'*80)\n",
    "print(confusion_matrix(y_val, preds))\n",
    "print('*'*80)\n",
    "y_pred_proba_ = tree.predict_proba(X_val)[::,1]\n",
    "fpr, tpr, _ = roc_curve(y_val,  y_pred_proba_)\n",
    "auc = roc_auc_score(y_val, y_pred_proba_)\n",
    "plt.plot(fpr,tpr,label=\"Gs-Smote-DT, auc=\"+str(np.round(auc,3)))\n",
    "plt.legend(loc=4)\n",
    "plt.tight_layout()\n",
    "\n",
    "print('*'*80)"
   ]
  },
  {
   "cell_type": "markdown",
   "metadata": {},
   "source": [
    "#### GRID SEARCH WITH SMOTE with CROSS VALIDATION---------------------------------"
   ]
  },
  {
   "cell_type": "code",
   "execution_count": 43,
   "metadata": {},
   "outputs": [
    {
     "name": "stdout",
     "output_type": "stream",
     "text": [
      "GRID SEARCH WITH SMOTE & CROSS VALIDATION -- DT:\n",
      "Using best parameters: {'criterion': 'entropy', 'max_depth': 9}\n",
      "accuracy: 0.88\n"
     ]
    },
    {
     "data": {
      "image/png": "[encoded data removed]",
      "text/plain": [
       "<Figure size 432x288 with 1 Axes>"
      ]
     },
     "metadata": {
      "needs_background": "light"
     },
     "output_type": "display_data"
    }
   ],
   "source": [
    "\n",
    "def dtree_grid_search(X,y,nfolds):\n",
    "    #create a dictionary of all values we want to test\n",
    "    param_grid = { 'criterion':['gini','entropy'],'max_depth': np.arange(5, 30)}\n",
    "    # decision tree model\n",
    "    dtree_model = DecisionTreeClassifier()\n",
    "    #use gridsearch to val all values\n",
    "    dtree_gscv = GridSearchCV(dtree_model, param_grid, cv=nfolds)\n",
    "    #fit model to data\n",
    "    dtree_gscv.fit(X, y)\n",
    "    #find score\n",
    "    score = dtree_gscv.score(X, y)\n",
    "    \n",
    "    return dtree_gscv.best_params_, score, dtree_gscv\n",
    "\n",
    "print('GRID SEARCH WITH SMOTE & CROSS VALIDATION -- DT:')\n",
    "best_param, acc, model = dtree_grid_search(X_train_res,y_train_res, 4)\n",
    "acc = model.score(X_val, y_val)\n",
    "print('Using best parameters:',best_param)\n",
    "print('accuracy:', np.round(acc,3))\n",
    "\n",
    "## ROC curve\n",
    "y_pred_proba = model.predict_proba(X_val)[::,1]\n",
    "fpr, tpr, _ = roc_curve(y_val,  y_pred_proba)\n",
    "auc = metrics.roc_auc_score(y_val, y_pred_proba)\n",
    "plt.plot(fpr,tpr,label=\"Gs-Smote-cv-DT, auc=\"+str(np.round(auc,3)))\n",
    "plt.legend(loc=4)\n",
    "plt.tight_layout()"
   ]
  },
  {
   "cell_type": "markdown",
   "metadata": {},
   "source": [
    "#### ---------- Random Forest----------------------------------------"
   ]
  },
  {
   "cell_type": "code",
   "execution_count": 46,
   "metadata": {},
   "outputs": [
    {
     "name": "stdout",
     "output_type": "stream",
     "text": [
      "********************************************************************************\n",
      "GRID SEARCH WITH SMOTE & CROSS VALIDATION -- RF:\n",
      "Using best parameters: {'criterion': 'entropy', 'max_depth': 14, 'n_estimators': 100}\n",
      "accuracy with Gs: 0.884\n",
      "********************************************************************************\n",
      "              precision    recall  f1-score   support\n",
      "\n",
      "         0.0       0.79      0.91      0.85      5084\n",
      "         1.0       0.95      0.87      0.91      9213\n",
      "\n",
      "    accuracy                           0.88     14297\n",
      "   macro avg       0.87      0.89      0.88     14297\n",
      "weighted avg       0.89      0.88      0.89     14297\n",
      "\n",
      "********************************************************************************\n",
      "[[4638  446]\n",
      " [1210 8003]]\n",
      "********************************************************************************\n"
     ]
    },
    {
     "data": {
      "image/png": "[encoded data removed]",
      "text/plain": [
       "<Figure size 432x288 with 1 Axes>"
      ]
     },
     "metadata": {
      "needs_background": "light"
     },
     "output_type": "display_data"
    }
   ],
   "source": [
    "\n",
    "from sklearn.ensemble import RandomForestClassifier\n",
    "\n",
    "def RF_grid_search(X,y,nfolds):\n",
    "    \n",
    "    #create a dictionary of all values we want to test\n",
    "    param_grid = {'criterion':['gini','entropy'],'max_depth': np.arange(11, 19),\n",
    "                  'n_estimators': [100,300]}\n",
    "    #randomForest model without gridSrearch\n",
    "    rf = RandomForestClassifier()\n",
    "    #use gridsearch to val all values\n",
    "    rf_gscv = GridSearchCV(rf, param_grid, cv=nfolds)\n",
    "    #fit model to data\n",
    "    rf_gscv.fit(X, y) # with grid search\n",
    "    predict_gscv=rf_gscv.predict(X)\n",
    "    #find score\n",
    "    score_gscv = rf_gscv.score(X, y) # with grid search\n",
    "    \n",
    "    return rf, rf_gscv.best_params_, rf_gscv, predict_gscv, score_gscv  \n",
    "\n",
    "print('*'*80)\n",
    "print('GRID SEARCH WITH SMOTE & CROSS VALIDATION -- RF:')\n",
    "rf, best_param_rf, model_rf, pred_rf, acc_rf = RF_grid_search(X_train_res,y_train_res, 4)\n",
    "pred_rf = model_rf.predict(X_val)\n",
    "acc_rf = model_rf.score(X_val, y_val)\n",
    "print('Using best parameters:',best_param_rf)\n",
    "print('accuracy with Gs:', np.round(acc_rf,3))\n",
    "print('*'*80)\n",
    "print(classification_report(y_val, pred_rf))\n",
    "print('*'*80)\n",
    "print(confusion_matrix(y_val, pred_rf))\n",
    "print('*'*80)\n",
    "\n",
    "## ROC curve\n",
    "y_pred_proba_rf = model_rf.predict_proba(X_val)[::,1]\n",
    "fpr_rf, tpr_rf, _rf = roc_curve(y_val,  y_pred_proba_rf)\n",
    "auc_rf = metrics.roc_auc_score(y_val, y_pred_proba_rf)\n",
    "plt.plot(fpr_rf,tpr_rf,label=\"Gs-Smote-cv-RF, aucRF=\"+str(np.round(auc_rf,3)))\n",
    "plt.legend(loc=4)\n",
    "plt.tight_layout()"
   ]
  },
  {
   "cell_type": "markdown",
   "metadata": {},
   "source": [
    "## XG Boost ::"
   ]
  },
  {
   "cell_type": "code",
   "execution_count": 48,
   "metadata": {},
   "outputs": [
    {
     "name": "stdout",
     "output_type": "stream",
     "text": [
      "********************************************************************************\n",
      "SMOTE with XGB:\n",
      "Accuracy without Gs: 89.09%\n",
      "********************************************************************************\n",
      "              precision    recall  f1-score   support\n",
      "\n",
      "         0.0       0.81      0.91      0.86      5084\n",
      "         1.0       0.95      0.88      0.91      9213\n",
      "\n",
      "    accuracy                           0.89     14297\n",
      "   macro avg       0.88      0.90      0.88     14297\n",
      "weighted avg       0.90      0.89      0.89     14297\n",
      "\n",
      "********************************************************************************\n",
      "[[4629  455]\n",
      " [1105 8108]]\n",
      "********************************************************************************\n"
     ]
    },
    {
     "data": {
      "text/plain": [
       "Text(0.5, 1.0, 'ROC')"
      ]
     },
     "execution_count": 48,
     "metadata": {},
     "output_type": "execute_result"
    },
    {
     "data": {
      "image/png": "[encoded data removed]",
      "text/plain": [
       "<Figure size 432x288 with 1 Axes>"
      ]
     },
     "metadata": {
      "needs_background": "light"
     },
     "output_type": "display_data"
    }
   ],
   "source": [
    "# import XGBoost classifier and accuracy\n",
    "from xgboost import XGBClassifier\n",
    "from sklearn.metrics import accuracy_score\n",
    "\n",
    "#instantiate model and train\n",
    "model_G = XGBClassifier(learning_rate = 0.05, n_estimators=300, max_depth=5)\n",
    "model_G.fit(X_train_res, y_train_res)\n",
    "\n",
    "# make predictions for test set\n",
    "y_pred = model_G.predict(X_val)\n",
    "preds = [round(value) for value in y_pred]\n",
    "\n",
    "accG = model_G.score(X_val,y_val)\n",
    "\n",
    "print('*'*80)\n",
    "print('SMOTE with XGB:')\n",
    "print(\"Accuracy without Gs: %.2f%%\" % (accG * 100.0))\n",
    "print('*'*80)\n",
    "print(classification_report(y_val, y_pred))\n",
    "print('*'*80)\n",
    "print(confusion_matrix(y_val, y_pred))\n",
    "print('*'*80)\n",
    "y_pred_proba_G = model_G.predict_proba(X_val)[::,1]\n",
    "fpr_G, tpr_G, _G = roc_curve(y_val,  y_pred_proba_G)\n",
    "auc_G = metrics.roc_auc_score(y_val, y_pred_proba_G)\n",
    "plt.plot(fpr_G,tpr_G,label=\"Smote-GB, aucG=\"+str(np.round(auc_G,3)))\n",
    "plt.legend(loc=4)\n",
    "plt.ylabel('Sensitivity')\n",
    "plt.xlabel('1 - Specificity')\n",
    "plt.title('ROC')"
   ]
  },
  {
   "cell_type": "markdown",
   "metadata": {},
   "source": [
    "### ''' Now changing the combination i.e. taking Label encoding nominal'''"
   ]
  },
  {
   "cell_type": "code",
   "execution_count": 49,
   "metadata": {},
   "outputs": [],
   "source": [
    "df4 = pd.concat([df_nom, df_numeric, df_ordinal], axis = 1) # label nominal + Qcut numerica\n",
    "train1=df4[df4['loan_granted']==1]\n",
    "test1=df4[df4['loan_granted']==0]\n",
    "\n",
    "datacobination1 = train1\n",
    "# ----------------------------------- MODELLING-----------------------------------------------------------------------------\n",
    "\n",
    "from imblearn.over_sampling import SMOTE #reduces oversampling/ technique\n",
    "from sklearn.model_selection import train_test_split \n",
    "from sklearn.metrics import confusion_matrix, classification_report , f1_score \n",
    "from sklearn.tree import DecisionTreeClassifier\n",
    "from confusionMatrix import plotConfusionMatrix\n",
    "\n",
    "ywithoutsmote1 = datacobination1['loan_repaid']\n",
    "Xwithoutsmote1 = datacobination1.iloc[:,0:-1]"
   ]
  },
  {
   "cell_type": "markdown",
   "metadata": {},
   "source": [
    "#####  Method 0: without SMOTE---------------------------------------"
   ]
  },
  {
   "cell_type": "code",
   "execution_count": 50,
   "metadata": {},
   "outputs": [
    {
     "name": "stdout",
     "output_type": "stream",
     "text": [
      "WITHOUT IMBALANCE TREATMENT:\n",
      "              precision    recall  f1-score   support\n",
      "\n",
      "         0.0       0.79      0.82      0.81      5084\n",
      "         1.0       0.90      0.88      0.89      9213\n",
      "\n",
      "    accuracy                           0.86     14297\n",
      "   macro avg       0.85      0.85      0.85     14297\n",
      "weighted avg       0.86      0.86      0.86     14297\n",
      "\n",
      "[[4185  899]\n",
      " [1111 8102]]\n",
      "********************************************************************************\n"
     ]
    },
    {
     "data": {
      "text/plain": [
       "9001"
      ]
     },
     "execution_count": 50,
     "metadata": {},
     "output_type": "execute_result"
    },
    {
     "data": {
      "image/png": "[encoded data removed]",
      "text/plain": [
       "<Figure size 432x288 with 2 Axes>"
      ]
     },
     "metadata": {
      "needs_background": "light"
     },
     "output_type": "display_data"
    }
   ],
   "source": [
    "X_train, X_val, y_train, y_val = train_test_split(Xwithoutsmote1, ywithoutsmote1, test_size = 0.3, random_state = 0)\n",
    "\n",
    "clf = DecisionTreeClassifier(random_state=0)\n",
    "clf.fit(X_train, y_train.ravel()) \n",
    "clf.score(X_train, y_train)\n",
    "clf.score(X_val, y_val)\n",
    "\n",
    "predictions_ = clf.predict(X_val) \n",
    "  \n",
    "# print classification report \n",
    "print('Without imbalance treatment:'.upper())\n",
    "print(classification_report(y_val, predictions_)) \n",
    "print(confusion_matrix(y_val, predictions_))\n",
    "f1= f1_score(y_val,predictions_, average='micro')\n",
    "plt.figure()\n",
    "cnf_mat = confusion_matrix(y_val,predictions_)\n",
    "plotConfusionMatrix(cnf_mat, 2,title='F1_micro {:.3f}'.format(f1))\n",
    "print('*'*80)\n",
    "#print('\\n')\n",
    "\n",
    "sum(y_val == 0)\n",
    "sum(y_val == 1)\n",
    "sum(predictions_ == 0)\n",
    "sum(predictions_ == 1)"
   ]
  },
  {
   "cell_type": "markdown",
   "metadata": {},
   "source": [
    "#####  Method1: SMOTE on Train------------------------------------------------------------------"
   ]
  },
  {
   "cell_type": "code",
   "execution_count": 52,
   "metadata": {},
   "outputs": [
    {
     "name": "stdout",
     "output_type": "stream",
     "text": [
      "WITH IMBALANCE TREATMENT:\n",
      "After OverSampling, X: (42986, 13)\n",
      "After OverSampling, y: (42986,)\n",
      "After OverSampling, counts of '1': 21493\n",
      "After OverSampling, counts of '0': 21493\n",
      "\n",
      "\n"
     ]
    }
   ],
   "source": [
    "sm = SMOTE(random_state = 2) \n",
    "X_res, y_res = sm.fit_sample(X_train, y_train.ravel()) \n",
    "\n",
    "print('With imbalance treatment:'.upper())\n",
    "print('After OverSampling, X: {}'.format(X_res.shape)) \n",
    "print('After OverSampling, y: {}'.format(y_res.shape)) \n",
    "print(\"After OverSampling, counts of '1': {}\".format(sum(y_res == 1))) \n",
    "print(\"After OverSampling, counts of '0': {}\".format(sum(y_res == 0))) \n",
    "print('\\n')"
   ]
  },
  {
   "cell_type": "code",
   "execution_count": 53,
   "metadata": {},
   "outputs": [
    {
     "name": "stdout",
     "output_type": "stream",
     "text": [
      "AFTER IMBALANCE TREATMENT:\n",
      "              precision    recall  f1-score   support\n",
      "\n",
      "         0.0       0.87      0.91      0.89      6499\n",
      "         1.0       0.90      0.86      0.88      6397\n",
      "\n",
      "    accuracy                           0.89     12896\n",
      "   macro avg       0.89      0.89      0.89     12896\n",
      "weighted avg       0.89      0.89      0.89     12896\n",
      "\n",
      "[[5910  589]\n",
      " [ 881 5516]]\n",
      "********************************************************************************\n"
     ]
    },
    {
     "data": {
      "text/plain": [
       "array([[5910,  589],\n",
       "       [ 881, 5516]], dtype=int64)"
      ]
     },
     "execution_count": 53,
     "metadata": {},
     "output_type": "execute_result"
    },
    {
     "data": {
      "image/png": "[encoded data removed]",
      "text/plain": [
       "<Figure size 432x288 with 2 Axes>"
      ]
     },
     "metadata": {
      "needs_background": "light"
     },
     "output_type": "display_data"
    }
   ],
   "source": [
    "#split into 70:30 ratio \n",
    "X_train_res, X_val_res, y_train_res, y_val_res = train_test_split(X_res, y_res, \n",
    "                    test_size = 0.3, random_state = 0)\n",
    "\n",
    "#Checking on Validation Set\n",
    "clf.fit(X_train_res, y_train_res.ravel()) \n",
    "clf.score(X_train_res, y_train_res)\n",
    "clf.score(X_val_res, y_val_res)\n",
    "\n",
    "predictions = clf.predict(X_val_res) \n",
    "  \n",
    "# print classification report \n",
    "print('After imbalance treatment:'.upper())\n",
    "print(classification_report(y_val_res, predictions)) \n",
    "print(confusion_matrix(y_val_res, predictions))\n",
    "f1= f1_score(y_val_res,predictions, average='micro')\n",
    "plt.figure()\n",
    "cnf_mat = confusion_matrix(y_val_res,predictions)\n",
    "plotConfusionMatrix(cnf_mat, 2,title='F1_micro {:.3f}'.format(f1))\n",
    "print('*'*80)\n",
    "#print('\\n')\n",
    "\n",
    "sum(y_val_res == 0)\n",
    "sum(y_val_res == 1)\n",
    "sum(predictions == 0)\n",
    "sum(predictions == 1)\n",
    "\n",
    "confusion_matrix(y_val_res, predictions)"
   ]
  },
  {
   "cell_type": "markdown",
   "metadata": {},
   "source": [
    "#### GRID SEARCH WITH SMOTE---------------------------------------------------"
   ]
  },
  {
   "cell_type": "code",
   "execution_count": 54,
   "metadata": {},
   "outputs": [
    {
     "name": "stdout",
     "output_type": "stream",
     "text": [
      "GRID SEARCH WITH SMOTE -- DT:\n",
      "Accuracy: 0.882\n",
      "********************************************************************************\n",
      "Using best parameters: {'max_depth': 9}\n",
      "********************************************************************************\n",
      "              precision    recall  f1-score   support\n",
      "\n",
      "         0.0       0.79      0.92      0.85      5084\n",
      "         1.0       0.95      0.86      0.90      9213\n",
      "\n",
      "    accuracy                           0.88     14297\n",
      "   macro avg       0.87      0.89      0.88     14297\n",
      "weighted avg       0.89      0.88      0.88     14297\n",
      "\n",
      "********************************************************************************\n",
      "[[4675  409]\n",
      " [1273 7940]]\n",
      "********************************************************************************\n",
      "********************************************************************************\n"
     ]
    },
    {
     "data": {
      "image/png": "[encoded data removed]",
      "text/plain": [
       "<Figure size 432x288 with 1 Axes>"
      ]
     },
     "metadata": {
      "needs_background": "light"
     },
     "output_type": "display_data"
    }
   ],
   "source": [
    "from sklearn.metrics import roc_auc_score, roc_curve, accuracy_score\n",
    "from sklearn.model_selection import GridSearchCV\n",
    "import matplotlib.pyplot as plt\n",
    "from sklearn import metrics\n",
    "\n",
    "#parameters={'min_samples_split' : range(10,500,20),'max_depth': range(1,20,2)}   X_val, y_val\n",
    "parameters = {'max_depth': np.arange(3, 10)} # pruning\n",
    "tree = GridSearchCV(clf,parameters)\n",
    "tree.fit(X_train_res,y_train_res)\n",
    "preds = tree.predict(X_val)\n",
    "accu = accuracy_score(y_val, preds)\n",
    "\n",
    "print('GRID SEARCH WITH SMOTE -- DT:')\n",
    "print('Accuracy:', np.round(accu,3))\n",
    "print('*'*80)\n",
    "print('Using best parameters:',tree.best_params_)\n",
    "print('*'*80)\n",
    "print(classification_report(y_val, preds))\n",
    "print('*'*80)\n",
    "print(confusion_matrix(y_val, preds))\n",
    "print('*'*80)\n",
    "y_pred_proba_ = tree.predict_proba(X_val)[::,1]\n",
    "fpr, tpr, _ = roc_curve(y_val,  y_pred_proba_)\n",
    "auc = roc_auc_score(y_val, y_pred_proba_)\n",
    "plt.plot(fpr,tpr,label=\"Gs-Smote-DT, auc=\"+str(np.round(auc,3)))\n",
    "plt.legend(loc=4)\n",
    "plt.tight_layout()\n",
    "\n",
    "print('*'*80)"
   ]
  },
  {
   "cell_type": "markdown",
   "metadata": {},
   "source": [
    "#### GRID SEARCH WITH SMOTE with CROSS VALIDATION---------------------------------"
   ]
  },
  {
   "cell_type": "code",
   "execution_count": 55,
   "metadata": {},
   "outputs": [
    {
     "name": "stdout",
     "output_type": "stream",
     "text": [
      "GRID SEARCH WITH SMOTE & CROSS VALIDATION -- DT:\n",
      "Using best parameters: {'criterion': 'gini', 'max_depth': 9}\n",
      "accuracy: 0.882\n"
     ]
    },
    {
     "data": {
      "image/png": "[encoded data removed]",
      "text/plain": [
       "<Figure size 432x288 with 1 Axes>"
      ]
     },
     "metadata": {
      "needs_background": "light"
     },
     "output_type": "display_data"
    }
   ],
   "source": [
    "def dtree_grid_search(X,y,nfolds):\n",
    "    #create a dictionary of all values we want to test\n",
    "    param_grid = { 'criterion':['gini','entropy'],'max_depth': np.arange(5, 30)}\n",
    "    # decision tree model\n",
    "    dtree_model = DecisionTreeClassifier()\n",
    "    #use gridsearch to val all values\n",
    "    dtree_gscv = GridSearchCV(dtree_model, param_grid, cv=nfolds)\n",
    "    #fit model to data\n",
    "    dtree_gscv.fit(X, y)\n",
    "    #find score\n",
    "    score = dtree_gscv.score(X, y)\n",
    "    \n",
    "    return dtree_gscv.best_params_, score, dtree_gscv\n",
    "\n",
    "print('GRID SEARCH WITH SMOTE & CROSS VALIDATION -- DT:')\n",
    "best_param, acc, model = dtree_grid_search(X_train_res,y_train_res, 4)\n",
    "acc = model.score(X_val, y_val)\n",
    "print('Using best parameters:',best_param)\n",
    "print('accuracy:', np.round(acc,3))\n",
    "\n",
    "## ROC curve\n",
    "y_pred_proba = model.predict_proba(X_val)[::,1]\n",
    "fpr, tpr, _ = roc_curve(y_val,  y_pred_proba)\n",
    "auc = metrics.roc_auc_score(y_val, y_pred_proba)\n",
    "plt.plot(fpr,tpr,label=\"Gs-Smote-cv-DT, auc=\"+str(np.round(auc,3)))\n",
    "plt.legend(loc=4)\n",
    "plt.tight_layout()"
   ]
  },
  {
   "cell_type": "markdown",
   "metadata": {},
   "source": [
    "#### ---------- Random Forest----------------------------------------"
   ]
  },
  {
   "cell_type": "code",
   "execution_count": 56,
   "metadata": {},
   "outputs": [
    {
     "name": "stdout",
     "output_type": "stream",
     "text": [
      "********************************************************************************\n",
      "GRID SEARCH WITH SMOTE & CROSS VALIDATION -- RF:\n",
      "Using best parameters: {'criterion': 'entropy', 'max_depth': 14, 'n_estimators': 300}\n",
      "accuracy with Gs: 0.886\n",
      "********************************************************************************\n",
      "              precision    recall  f1-score   support\n",
      "\n",
      "         0.0       0.80      0.91      0.85      5084\n",
      "         1.0       0.95      0.87      0.91      9213\n",
      "\n",
      "    accuracy                           0.89     14297\n",
      "   macro avg       0.87      0.89      0.88     14297\n",
      "weighted avg       0.89      0.89      0.89     14297\n",
      "\n",
      "********************************************************************************\n",
      "[[4642  442]\n",
      " [1185 8028]]\n",
      "********************************************************************************\n"
     ]
    },
    {
     "data": {
      "image/png": "[encoded data removed]",
      "text/plain": [
       "<Figure size 432x288 with 1 Axes>"
      ]
     },
     "metadata": {
      "needs_background": "light"
     },
     "output_type": "display_data"
    }
   ],
   "source": [
    "from sklearn.ensemble import RandomForestClassifier\n",
    "\n",
    "def RF_grid_search(X,y,nfolds):\n",
    "    \n",
    "    #create a dictionary of all values we want to test\n",
    "    param_grid = {'criterion':['gini','entropy'],'max_depth': np.arange(11, 19),\n",
    "                  'n_estimators': [100,300]}\n",
    "    #randomForest model without gridSrearch\n",
    "    rf = RandomForestClassifier()\n",
    "    #use gridsearch to val all values\n",
    "    rf_gscv = GridSearchCV(rf, param_grid, cv=nfolds)\n",
    "    #fit model to data\n",
    "    rf_gscv.fit(X, y) # with grid search\n",
    "    predict_gscv=rf_gscv.predict(X)\n",
    "    #find score\n",
    "    score_gscv = rf_gscv.score(X, y) # with grid search\n",
    "    \n",
    "    return rf, rf_gscv.best_params_, rf_gscv, predict_gscv, score_gscv  \n",
    "\n",
    "print('*'*80)\n",
    "print('GRID SEARCH WITH SMOTE & CROSS VALIDATION -- RF:')\n",
    "rf, best_param_rf, model_rf, pred_rf, acc_rf = RF_grid_search(X_train_res,y_train_res, 4)\n",
    "pred_rf = model_rf.predict(X_val)\n",
    "acc_rf = model_rf.score(X_val, y_val)\n",
    "print('Using best parameters:',best_param_rf)\n",
    "print('accuracy with Gs:', np.round(acc_rf,3))\n",
    "print('*'*80)\n",
    "print(classification_report(y_val, pred_rf))\n",
    "print('*'*80)\n",
    "print(confusion_matrix(y_val, pred_rf))\n",
    "print('*'*80)\n",
    "\n",
    "## ROC curve\n",
    "y_pred_proba_rf = model_rf.predict_proba(X_val)[::,1]\n",
    "fpr_rf, tpr_rf, _rf = roc_curve(y_val,  y_pred_proba_rf)\n",
    "auc_rf = metrics.roc_auc_score(y_val, y_pred_proba_rf)\n",
    "plt.plot(fpr_rf,tpr_rf,label=\"Gs-Smote-cv-RF, aucRF=\"+str(np.round(auc_rf,3)))\n",
    "plt.legend(loc=4)\n",
    "plt.tight_layout()"
   ]
  },
  {
   "cell_type": "markdown",
   "metadata": {},
   "source": [
    "## XG Boost ::"
   ]
  },
  {
   "cell_type": "code",
   "execution_count": 57,
   "metadata": {},
   "outputs": [
    {
     "name": "stdout",
     "output_type": "stream",
     "text": [
      "********************************************************************************\n",
      "SMOTE with XGB:\n",
      "Accuracy without Gs: 89.12%\n",
      "********************************************************************************\n",
      "              precision    recall  f1-score   support\n",
      "\n",
      "         0.0       0.81      0.91      0.86      5084\n",
      "         1.0       0.95      0.88      0.91      9213\n",
      "\n",
      "    accuracy                           0.89     14297\n",
      "   macro avg       0.88      0.90      0.88     14297\n",
      "weighted avg       0.90      0.89      0.89     14297\n",
      "\n",
      "********************************************************************************\n",
      "[[4642  442]\n",
      " [1113 8100]]\n",
      "********************************************************************************\n"
     ]
    },
    {
     "data": {
      "text/plain": [
       "Text(0.5, 1.0, 'ROC')"
      ]
     },
     "execution_count": 57,
     "metadata": {},
     "output_type": "execute_result"
    },
    {
     "data": {
      "image/png": "[encoded data removed]",
      "text/plain": [
       "<Figure size 432x288 with 1 Axes>"
      ]
     },
     "metadata": {
      "needs_background": "light"
     },
     "output_type": "display_data"
    }
   ],
   "source": [
    "# import XGBoost classifier and accuracy\n",
    "from xgboost import XGBClassifier\n",
    "from sklearn.metrics import accuracy_score\n",
    "\n",
    "#instantiate model and train\n",
    "model_G = XGBClassifier(learning_rate = 0.05, n_estimators=300, max_depth=5)\n",
    "model_G.fit(X_train_res, y_train_res)\n",
    "\n",
    "# make predictions for test set\n",
    "y_pred = model_G.predict(X_val)\n",
    "preds = [round(value) for value in y_pred]\n",
    "\n",
    "accG = model_G.score(X_val,y_val)\n",
    "\n",
    "print('*'*80)\n",
    "print('SMOTE with XGB:')\n",
    "print(\"Accuracy without Gs: %.2f%%\" % (accG * 100.0))\n",
    "print('*'*80)\n",
    "print(classification_report(y_val, y_pred))\n",
    "print('*'*80)\n",
    "print(confusion_matrix(y_val, y_pred))\n",
    "print('*'*80)\n",
    "y_pred_proba_G = model_G.predict_proba(X_val)[::,1]\n",
    "fpr_G, tpr_G, _G = roc_curve(y_val,  y_pred_proba_G)\n",
    "auc_G = metrics.roc_auc_score(y_val, y_pred_proba_G)\n",
    "plt.plot(fpr_G,tpr_G,label=\"Smote-GB, aucG=\"+str(np.round(auc_G,3)))\n",
    "plt.legend(loc=4)\n",
    "plt.ylabel('Sensitivity')\n",
    "plt.xlabel('1 - Specificity')\n",
    "plt.title('ROC')"
   ]
  },
  {
   "cell_type": "markdown",
   "metadata": {},
   "source": [
    "####  Feature Importance"
   ]
  },
  {
   "cell_type": "code",
   "execution_count": 77,
   "metadata": {},
   "outputs": [
    {
     "data": {
      "text/plain": [
       "<matplotlib.axes._subplots.AxesSubplot at 0x1af3a46d358>"
      ]
     },
     "execution_count": 77,
     "metadata": {},
     "output_type": "execute_result"
    },
    {
     "data": {
      "image/png": "[encoded data removed]",
      "text/plain": [
       "<Figure size 1008x504 with 1 Axes>"
      ]
     },
     "metadata": {
      "needs_background": "light"
     },
     "output_type": "display_data"
    }
   ],
   "source": [
    "from xgboost import plot_importance\n",
    "# plot feature importance\n",
    "plt.rcParams[\"figure.figsize\"] = (14, 7)\n",
    "plot_importance(model_G)"
   ]
  },
  {
   "cell_type": "code",
   "execution_count": 58,
   "metadata": {},
   "outputs": [
    {
     "name": "stdout",
     "output_type": "stream",
     "text": [
      "********************************************************************************\n",
      "SMOTE with XGB:\n",
      "Accuracy without Gs: 89.51%\n",
      "********************************************************************************\n",
      "              precision    recall  f1-score   support\n",
      "\n",
      "         0.0       0.84      0.88      0.86      5084\n",
      "         1.0       0.93      0.91      0.92      9213\n",
      "\n",
      "    accuracy                           0.90     14297\n",
      "   macro avg       0.88      0.89      0.89     14297\n",
      "weighted avg       0.90      0.90      0.90     14297\n",
      "\n",
      "********************************************************************************\n",
      "[[4452  632]\n",
      " [ 868 8345]]\n",
      "********************************************************************************\n"
     ]
    },
    {
     "data": {
      "text/plain": [
       "Text(0.5, 1.0, 'ROC')"
      ]
     },
     "execution_count": 58,
     "metadata": {},
     "output_type": "execute_result"
    },
    {
     "data": {
      "image/png": "[encoded data removed]",
      "text/plain": [
       "<Figure size 432x288 with 1 Axes>"
      ]
     },
     "metadata": {
      "needs_background": "light"
     },
     "output_type": "display_data"
    }
   ],
   "source": [
    "# Without SMOTE using XGB\n",
    "# import XGBoost classifier and accuracy\n",
    "from xgboost import XGBClassifier\n",
    "from sklearn.metrics import accuracy_score\n",
    "\n",
    "#instantiate model and train\n",
    "model_G = XGBClassifier(learning_rate = 0.05, n_estimators=300, max_depth=5)\n",
    "model_G.fit(X_train, y_train)\n",
    "\n",
    "# make predictions for test set\n",
    "y_pred = model_G.predict(X_val)\n",
    "preds = [round(value) for value in y_pred]\n",
    "\n",
    "accG = model_G.score(X_val,y_val)\n",
    "\n",
    "print('*'*80)\n",
    "print('SMOTE with XGB:')\n",
    "print(\"Accuracy without Gs: %.2f%%\" % (accG * 100.0))\n",
    "print('*'*80)\n",
    "print(classification_report(y_val, y_pred))\n",
    "print('*'*80)\n",
    "print(confusion_matrix(y_val, y_pred))\n",
    "print('*'*80)\n",
    "y_pred_proba_G = model_G.predict_proba(X_val)[::,1]\n",
    "fpr_G, tpr_G, _G = roc_curve(y_val,  y_pred_proba_G)\n",
    "auc_G = metrics.roc_auc_score(y_val, y_pred_proba_G)\n",
    "plt.plot(fpr_G,tpr_G,label=\"Smote-GB, aucG=\"+str(np.round(auc_G,3)))\n",
    "plt.legend(loc=4)\n",
    "plt.ylabel('Sensitivity')\n",
    "plt.xlabel('1 - Specificity')\n",
    "plt.title('ROC')"
   ]
  },
  {
   "cell_type": "markdown",
   "metadata": {},
   "source": [
    "### SVM "
   ]
  },
  {
   "cell_type": "code",
   "execution_count": 67,
   "metadata": {},
   "outputs": [],
   "source": [
    "\"\"\" ==================\n",
    "Now will show SVM data ++++++++++++++++++\n",
    "\"\"\"\n",
    "df5 = pd.concat([df_nom, dfs_numeric, df_ordinal], axis = 1)\n",
    "trainsvm=df5[df5['loan_granted']==1]\n",
    "testsvm=df5[df5['loan_granted']==0]\n",
    "datasvm = trainsvm\n",
    "\n",
    "\n",
    "from sklearn.model_selection import train_test_split \n",
    "from sklearn.metrics import confusion_matrix, classification_report\n",
    "from imblearn.over_sampling import SMOTE \n",
    "from sklearn.svm import SVC #Support vector classifier\n",
    "from sklearn.metrics import roc_auc_score, roc_curve\n",
    "\n",
    "ywismotesvm = datasvm['loan_repaid']\n",
    "Xwismotesvm = datasvm.iloc[:,0:-1]\n",
    "X_train, X_val, y_train, y_val = train_test_split(Xwismotesvm, ywismotesvm, test_size = 0.3, random_state = 0)"
   ]
  },
  {
   "cell_type": "code",
   "execution_count": 70,
   "metadata": {},
   "outputs": [
    {
     "name": "stdout",
     "output_type": "stream",
     "text": [
      "WITH IMBALANCE TREATMENT:\n",
      "Before SMOTE: (47654, 13) (47654,)\n",
      "After SMOTE, Xs: (42986, 13)\n",
      "After SMOTE, y: (42986,)\n",
      "After SMOTE, counts of '1': 21493\n",
      "After SMOTE, counts of '0': 21493\n",
      "Before SMOTE, counts of '1': 30706\n",
      "Before SMOTE, counts of '0': 16948\n",
      "\n",
      "\n",
      "********************************************************************************\n"
     ]
    }
   ],
   "source": [
    "sm = SMOTE(random_state = 2) \n",
    "X_sm, y_sm = sm.fit_sample(X_train, y_train) \n",
    "\n",
    "print('With imbalance treatment:'.upper())\n",
    "print('Before SMOTE:',Xwismotesvm.shape, ywismotesvm.shape)\n",
    "print('After SMOTE, Xs: {}'.format(X_sm.shape)) \n",
    "print('After SMOTE, y: {}'.format(y_sm.shape)) \n",
    "print(\"After SMOTE, counts of '1': {}\".format(sum(y_sm == 1))) \n",
    "print(\"After SMOTE, counts of '0': {}\".format(sum(y_sm == 0))) \n",
    "print(\"Before SMOTE, counts of '1': {}\".format(sum(ywismotesvm == 1))) \n",
    "print(\"Before SMOTE, counts of '0': {}\".format(sum(ywismotesvm == 0))) \n",
    "print('\\n')\n",
    "print('*'*80)"
   ]
  },
  {
   "cell_type": "code",
   "execution_count": 71,
   "metadata": {},
   "outputs": [],
   "source": [
    "X_train_sm, X_val_sm, y_train_sm, y_val_sm = train_test_split(X_sm, y_sm, test_size = 0.3, random_state = 0)"
   ]
  },
  {
   "cell_type": "code",
   "execution_count": 72,
   "metadata": {},
   "outputs": [
    {
     "name": "stdout",
     "output_type": "stream",
     "text": [
      "WITH SMOTE:\n",
      "train accuracy:  0.903168750187367\n",
      "test accuracy Without SMOTE:  0.9081625515842484\n",
      "F1 score:\n",
      "               precision    recall  f1-score   support\n",
      "\n",
      "         0.0       0.86      0.89      0.87      5084\n",
      "         1.0       0.94      0.92      0.93      9213\n",
      "\n",
      "    accuracy                           0.91     14297\n",
      "   macro avg       0.90      0.90      0.90     14297\n",
      "weighted avg       0.91      0.91      0.91     14297\n",
      "\n",
      "********************************************************************************\n",
      "********************************************************************************\n"
     ]
    },
    {
     "data": {
      "image/png": "[encoded data removed]",
      "text/plain": [
       "<Figure size 432x360 with 1 Axes>"
      ]
     },
     "metadata": {
      "needs_background": "light"
     },
     "output_type": "display_data"
    }
   ],
   "source": [
    "# Naked Modelling \n",
    "\n",
    "svm = SVC() #SVC(kernel='linear') \n",
    "\n",
    "clf = svm.fit(X_train, y_train.ravel()) \n",
    "score1 = svm.score(X_train, y_train)\n",
    "score2 = svm.score(X_val, y_val)\n",
    "pred = svm.predict(X_val) \n",
    "  \n",
    "# print classification report \n",
    "print('With SMOTE:'.upper())\n",
    "print('train accuracy: ', score1)\n",
    "print('test accuracy Without SMOTE: ', score2)\n",
    "print('F1 score:\\n', classification_report(y_val, pred)) \n",
    "print('*'*80)\n",
    "\n",
    "# ROC Curve\n",
    "svm_p = SVC(probability = True) # for probability\n",
    "clf_p = svm_p.fit(X_train, y_train.ravel()) # for probability\n",
    "\n",
    "pred_proba = svm_p.predict_proba(X_val)[::,1]\n",
    "fpr, tpr, _ = roc_curve(y_val,  pred_proba)\n",
    "auc = roc_auc_score(y_val, pred_proba)\n",
    "plt.figure(figsize = (6,5))\n",
    "plt.plot(fpr,tpr,label=\"Without Smote, auc=\"+str(np.round(auc,3)))\n",
    "plt.legend(loc=4)\n",
    "plt.ylabel('Sensitivity')\n",
    "plt.xlabel('1 - Specificity')\n",
    "plt.title('ROC')\n",
    "plt.tight_layout()\n",
    "print('*'*80)"
   ]
  },
  {
   "cell_type": "code",
   "execution_count": 74,
   "metadata": {},
   "outputs": [
    {
     "name": "stdout",
     "output_type": "stream",
     "text": [
      "WITH SMOTE:\n",
      "Validation accuracy:  0.9120657568238213\n",
      "test accuracy With SMOTE:  0.9016576904245646\n",
      "F1 score:\n",
      "               precision    recall  f1-score   support\n",
      "\n",
      "         0.0       0.82      0.94      0.87      5084\n",
      "         1.0       0.96      0.88      0.92      9213\n",
      "\n",
      "    accuracy                           0.90     14297\n",
      "   macro avg       0.89      0.91      0.90     14297\n",
      "weighted avg       0.91      0.90      0.90     14297\n",
      "\n",
      "********************************************************************************\n",
      "********************************************************************************\n"
     ]
    },
    {
     "data": {
      "image/png": "[encoded data removed]",
      "text/plain": [
       "<Figure size 432x360 with 1 Axes>"
      ]
     },
     "metadata": {
      "needs_background": "light"
     },
     "output_type": "display_data"
    }
   ],
   "source": [
    "# Naked Modelling\n",
    "\n",
    "svm = SVC() #SVC(kernel='linear') \n",
    "\n",
    "clf = svm.fit(X_train_sm, y_train_sm.ravel()) \n",
    "score1 = svm.score(X_val_sm, y_val_sm)\n",
    "score2 = svm.score(X_val, y_val)\n",
    "pred = svm.predict(X_val) \n",
    "  \n",
    "# print classification report \n",
    "print('With SMOTE:'.upper())\n",
    "print('Validation accuracy: ', score1)\n",
    "print('test accuracy With SMOTE: ', score2)\n",
    "print('F1 score:\\n', classification_report(y_val, pred)) \n",
    "print('*'*80)\n",
    "\n",
    "# ROC Curve\n",
    "svm_p = SVC(probability = True) # for probability\n",
    "clf_p = svm_p.fit(X_train_sm, y_train_sm.ravel()) # for probability\n",
    "\n",
    "pred_proba = svm_p.predict_proba(X_val)[::,1]\n",
    "fpr, tpr, _ = roc_curve(y_val,  pred_proba)\n",
    "auc = roc_auc_score(y_val, pred_proba)\n",
    "plt.figure(figsize = (6,5))\n",
    "plt.plot(fpr,tpr,label=\"Smote, auc=\"+str(np.round(auc,3)))\n",
    "plt.legend(loc=4)\n",
    "plt.ylabel('Sensitivity')\n",
    "plt.xlabel('1 - Specificity')\n",
    "plt.title('ROC')\n",
    "plt.tight_layout()\n",
    "print('*'*80)"
   ]
  },
  {
   "cell_type": "markdown",
   "metadata": {},
   "source": [
    "### Logistic Regression"
   ]
  },
  {
   "cell_type": "code",
   "execution_count": 75,
   "metadata": {},
   "outputs": [
    {
     "name": "stdout",
     "output_type": "stream",
     "text": [
      "********************************************************************************\n",
      "Logistic Regression:\n",
      "Accuracy without LogR: 90.25%\n",
      "********************************************************************************\n",
      "              precision    recall  f1-score   support\n",
      "\n",
      "         0.0       0.86      0.87      0.86      5084\n",
      "         1.0       0.93      0.92      0.92      9213\n",
      "\n",
      "    accuracy                           0.90     14297\n",
      "   macro avg       0.89      0.89      0.89     14297\n",
      "weighted avg       0.90      0.90      0.90     14297\n",
      "\n",
      "[[4407  677]\n",
      " [ 717 8496]]\n"
     ]
    },
    {
     "data": {
      "image/png": "[encoded data removed]",
      "text/plain": [
       "<Figure size 432x360 with 1 Axes>"
      ]
     },
     "metadata": {
      "needs_background": "light"
     },
     "output_type": "display_data"
    },
    {
     "data": {
      "image/png": "[encoded data removed]",
      "text/plain": [
       "<Figure size 432x288 with 2 Axes>"
      ]
     },
     "metadata": {
      "needs_background": "light"
     },
     "output_type": "display_data"
    }
   ],
   "source": [
    "from sklearn.linear_model import LogisticRegression\n",
    "\n",
    "lR = LogisticRegression(max_iter=200, C=0.5)\n",
    "lR.fit(X_train, y_train)\n",
    "lR.score(X_train, y_train)\n",
    "acc = lR.score(X_val, y_val)\n",
    "preds = lR.predict(X_val)\n",
    "pred_proba = lR.predict_proba(X_val)[::,1]\n",
    "\n",
    "\n",
    "print('*'*80)\n",
    "print('Logistic Regression:')\n",
    "print(\"Accuracy without LogR: %.2f%%\" % (acc * 100.0))\n",
    "print('*'*80)\n",
    "#y_pred_proba_G = model_G.predict_proba(X_val_res)[::,1]\n",
    "fpr_G, tpr_G, _G = roc_curve(y_val,  pred_proba)\n",
    "auc = metrics.roc_auc_score(y_val, pred_proba)\n",
    "plt.figure(figsize = (6,5))\n",
    "plt.plot(fpr_G,tpr_G,label=\"Smote-GB, aucG=\"+str(np.round(auc,3)))\n",
    "plt.legend(loc=4)\n",
    "plt.ylabel('Sensitivity')\n",
    "plt.xlabel('1 - Specificity')\n",
    "plt.title('ROC')\n",
    "plt.tight_layout()\n",
    "\n",
    "\n",
    "print(classification_report(y_val, preds)) \n",
    "print(confusion_matrix(y_val, preds))\n",
    "cnf_mat = confusion_matrix(y_val, preds)\n",
    "f1= f1_score(y_val,preds, average='micro')\n",
    "plt.figure()\n",
    "cnf_mat = confusion_matrix(y_val,preds)\n",
    "plotConfusionMatrix(cnf_mat, 2,title='F1_micro {:.3f}'.format(f1))"
   ]
  },
  {
   "cell_type": "code",
   "execution_count": 76,
   "metadata": {},
   "outputs": [
    {
     "name": "stdout",
     "output_type": "stream",
     "text": [
      "********************************************************************************\n",
      "Logistic Regression:\n",
      "Accuracy without LogR: 90.03%\n",
      "********************************************************************************\n",
      "              precision    recall  f1-score   support\n",
      "\n",
      "         0.0       0.82      0.92      0.87      5084\n",
      "         1.0       0.95      0.89      0.92      9213\n",
      "\n",
      "    accuracy                           0.90     14297\n",
      "   macro avg       0.89      0.90      0.89     14297\n",
      "weighted avg       0.91      0.90      0.90     14297\n",
      "\n",
      "[[4663  421]\n",
      " [1004 8209]]\n"
     ]
    },
    {
     "data": {
      "image/png": "[encoded data removed]",
      "text/plain": [
       "<Figure size 432x360 with 1 Axes>"
      ]
     },
     "metadata": {
      "needs_background": "light"
     },
     "output_type": "display_data"
    },
    {
     "data": {
      "image/png": "[encoded data removed]",
      "text/plain": [
       "<Figure size 432x288 with 2 Axes>"
      ]
     },
     "metadata": {
      "needs_background": "light"
     },
     "output_type": "display_data"
    }
   ],
   "source": [
    "from sklearn.linear_model import LogisticRegression\n",
    "\n",
    "lR = LogisticRegression(max_iter=200, C=0.5)\n",
    "lR.fit(X_train_sm, y_train_sm)\n",
    "acc = lR.score(X_val, y_val)\n",
    "preds = lR.predict(X_val)\n",
    "pred_proba = lR.predict_proba(X_val)[::,1]\n",
    "\n",
    "\n",
    "print('*'*80)\n",
    "print('Logistic Regression:')\n",
    "print(\"Accuracy without LogR: %.2f%%\" % (acc * 100.0))\n",
    "print('*'*80)\n",
    "#y_pred_proba_G = model_G.predict_proba(X_val_res)[::,1]\n",
    "fpr_G, tpr_G, _G = roc_curve(y_val,  pred_proba)\n",
    "auc = metrics.roc_auc_score(y_val, pred_proba)\n",
    "plt.figure(figsize = (6,5))\n",
    "plt.plot(fpr_G,tpr_G,label=\"Smote-GB, aucG=\"+str(np.round(auc,3)))\n",
    "plt.legend(loc=4)\n",
    "plt.ylabel('Sensitivity')\n",
    "plt.xlabel('1 - Specificity')\n",
    "plt.title('ROC')\n",
    "plt.tight_layout()\n",
    "\n",
    "\n",
    "print(classification_report(y_val, preds)) \n",
    "print(confusion_matrix(y_val, preds))\n",
    "cnf_mat = confusion_matrix(y_val, preds)\n",
    "f1= f1_score(y_val,preds, average='micro')\n",
    "plt.figure()\n",
    "cnf_mat = confusion_matrix(y_val,preds)\n",
    "plotConfusionMatrix(cnf_mat, 2,title='F1_micro {:.3f}'.format(f1))"
   ]
  },
  {
   "cell_type": "code",
   "execution_count": null,
   "metadata": {},
   "outputs": [],
   "source": []
  }
 ],
 "metadata": {
  "kernelspec": {
   "display_name": "Python 3",
   "language": "python",
   "name": "python3"
  },
  "language_info": {
   "codemirror_mode": {
    "name": "ipython",
    "version": 3
   },
   "file_extension": ".py",
   "mimetype": "text/x-python",
   "name": "python",
   "nbconvert_exporter": "python",
   "pygments_lexer": "ipython3",
   "version": "3.7.3"
  }
 },
 "nbformat": 4,
 "nbformat_minor": 2
}
